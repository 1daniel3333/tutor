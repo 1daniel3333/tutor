{
 "cells": [
  {
   "cell_type": "markdown",
   "metadata": {},
   "source": [
    "## How to import data"
   ]
  },
  {
   "cell_type": "code",
   "execution_count": 2,
   "metadata": {},
   "outputs": [
    {
     "data": {
      "text/html": [
       "<div>\n",
       "<style scoped>\n",
       "    .dataframe tbody tr th:only-of-type {\n",
       "        vertical-align: middle;\n",
       "    }\n",
       "\n",
       "    .dataframe tbody tr th {\n",
       "        vertical-align: top;\n",
       "    }\n",
       "\n",
       "    .dataframe thead th {\n",
       "        text-align: right;\n",
       "    }\n",
       "</style>\n",
       "<table border=\"1\" class=\"dataframe\">\n",
       "  <thead>\n",
       "    <tr style=\"text-align: right;\">\n",
       "      <th></th>\n",
       "      <th>Year of Birth</th>\n",
       "      <th>Gender</th>\n",
       "      <th>Ethnicity</th>\n",
       "      <th>Child's First Name</th>\n",
       "      <th>Count</th>\n",
       "      <th>Rank</th>\n",
       "    </tr>\n",
       "  </thead>\n",
       "  <tbody>\n",
       "    <tr>\n",
       "      <th>0</th>\n",
       "      <td>2011</td>\n",
       "      <td>FEMALE</td>\n",
       "      <td>HISPANIC</td>\n",
       "      <td>GERALDINE</td>\n",
       "      <td>13</td>\n",
       "      <td>75</td>\n",
       "    </tr>\n",
       "    <tr>\n",
       "      <th>1</th>\n",
       "      <td>2011</td>\n",
       "      <td>MALE</td>\n",
       "      <td>ASIAN AND PACIFIC ISLANDER</td>\n",
       "      <td>VINCENT</td>\n",
       "      <td>71</td>\n",
       "      <td>13</td>\n",
       "    </tr>\n",
       "    <tr>\n",
       "      <th>2</th>\n",
       "      <td>2011</td>\n",
       "      <td>MALE</td>\n",
       "      <td>ASIAN AND PACIFIC ISLANDER</td>\n",
       "      <td>VICTOR</td>\n",
       "      <td>17</td>\n",
       "      <td>49</td>\n",
       "    </tr>\n",
       "    <tr>\n",
       "      <th>3</th>\n",
       "      <td>2011</td>\n",
       "      <td>MALE</td>\n",
       "      <td>ASIAN AND PACIFIC ISLANDER</td>\n",
       "      <td>TYLER</td>\n",
       "      <td>31</td>\n",
       "      <td>35</td>\n",
       "    </tr>\n",
       "    <tr>\n",
       "      <th>4</th>\n",
       "      <td>2011</td>\n",
       "      <td>MALE</td>\n",
       "      <td>ASIAN AND PACIFIC ISLANDER</td>\n",
       "      <td>TRAVIS</td>\n",
       "      <td>11</td>\n",
       "      <td>55</td>\n",
       "    </tr>\n",
       "  </tbody>\n",
       "</table>\n",
       "</div>"
      ],
      "text/plain": [
       "   Year of Birth  Gender                   Ethnicity Child's First Name  \\\n",
       "0           2011  FEMALE                    HISPANIC          GERALDINE   \n",
       "1           2011    MALE  ASIAN AND PACIFIC ISLANDER            VINCENT   \n",
       "2           2011    MALE  ASIAN AND PACIFIC ISLANDER             VICTOR   \n",
       "3           2011    MALE  ASIAN AND PACIFIC ISLANDER              TYLER   \n",
       "4           2011    MALE  ASIAN AND PACIFIC ISLANDER             TRAVIS   \n",
       "\n",
       "   Count  Rank  \n",
       "0     13    75  \n",
       "1     71    13  \n",
       "2     17    49  \n",
       "3     31    35  \n",
       "4     11    55  "
      ]
     },
     "execution_count": 2,
     "metadata": {},
     "output_type": "execute_result"
    }
   ],
   "source": [
    "#for a csv, comma separated values you can use pandas\n",
    "import pandas as pd\n",
    "data = pd.read_csv('Popular_Baby_Names.csv')\n",
    "data.head()"
   ]
  },
  {
   "cell_type": "code",
   "execution_count": 4,
   "metadata": {},
   "outputs": [
    {
     "data": {
      "text/plain": [
       "[\"Year of Birth,Gender,Ethnicity,Child's First Name,Count,Rank\\n\",\n",
       " '2011,FEMALE,HISPANIC,GERALDINE,13,75\\n',\n",
       " '2011,MALE,ASIAN AND PACIFIC ISLANDER,VINCENT,71,13\\n',\n",
       " '2011,MALE,ASIAN AND PACIFIC ISLANDER,VICTOR,17,49\\n',\n",
       " '2011,MALE,ASIAN AND PACIFIC ISLANDER,TYLER,31,35\\n',\n",
       " '2011,MALE,ASIAN AND PACIFIC ISLANDER,TRAVIS,11,55\\n',\n",
       " '2011,MALE,ASIAN AND PACIFIC ISLANDER,TONY,16,50\\n',\n",
       " '2011,MALE,ASIAN AND PACIFIC ISLANDER,TIMOTHY,16,50\\n',\n",
       " '2011,MALE,ASIAN AND PACIFIC ISLANDER,THOMAS,18,48\\n',\n",
       " '2011,MALE,ASIAN AND PACIFIC ISLANDER,TERRY,11,55\\n']"
      ]
     },
     "execution_count": 4,
     "metadata": {},
     "output_type": "execute_result"
    }
   ],
   "source": [
    "#check the raw format inside a csv\n",
    "with open('Popular_Baby_Names.csv') as f:\n",
    "    lines=f.readlines()\n",
    "lines[:10]"
   ]
  },
  {
   "cell_type": "markdown",
   "metadata": {},
   "source": [
    "##Different raw data format, our target is to transit needed data to pd acceptable format"
   ]
  },
  {
   "cell_type": "code",
   "execution_count": 5,
   "metadata": {},
   "outputs": [
    {
     "data": {
      "text/plain": [
       "[\"Year_of_Birth Gender Ethnicity Child's_First_Name Count Rank\\n\",\n",
       " '2011 FEMALE HISPANIC GERALDINE 13 75\\n',\n",
       " '2011 MALE ASIAN AND PACIFIC ISLANDER VINCENT 71 13\\n',\n",
       " '2011 MALE ASIAN AND PACIFIC ISLANDER VICTOR 17 49\\n',\n",
       " '2011 MALE ASIAN AND PACIFIC ISLANDER TYLER 31 35\\n',\n",
       " '2011 MALE ASIAN AND PACIFIC ISLANDER TRAVIS 11 55\\n',\n",
       " '2011 MALE ASIAN AND PACIFIC ISLANDER TONY 16 50\\n',\n",
       " '2011 MALE ASIAN AND PACIFIC ISLANDER TIMOTHY 16 50\\n',\n",
       " '2011 MALE ASIAN AND PACIFIC ISLANDER THOMAS 18 48\\n',\n",
       " '2011 MALE ASIAN AND PACIFIC ISLANDER TERRY 11 55\\n']"
      ]
     },
     "execution_count": 5,
     "metadata": {},
     "output_type": "execute_result"
    }
   ],
   "source": [
    "#If there's space separate\n",
    "#check the raw format inside a csv\n",
    "with open('Popular_Baby_Names_space') as f:\n",
    "    lines=f.readlines()\n",
    "lines[:10]"
   ]
  },
  {
   "cell_type": "code",
   "execution_count": 10,
   "metadata": {},
   "outputs": [
    {
     "data": {
      "text/html": [
       "<div>\n",
       "<style scoped>\n",
       "    .dataframe tbody tr th:only-of-type {\n",
       "        vertical-align: middle;\n",
       "    }\n",
       "\n",
       "    .dataframe tbody tr th {\n",
       "        vertical-align: top;\n",
       "    }\n",
       "\n",
       "    .dataframe thead th {\n",
       "        text-align: right;\n",
       "    }\n",
       "</style>\n",
       "<table border=\"1\" class=\"dataframe\">\n",
       "  <thead>\n",
       "    <tr style=\"text-align: right;\">\n",
       "      <th></th>\n",
       "      <th>Year_of_Birth</th>\n",
       "      <th>Gender</th>\n",
       "      <th>Ethnicity</th>\n",
       "    </tr>\n",
       "  </thead>\n",
       "  <tbody>\n",
       "    <tr>\n",
       "      <th>0</th>\n",
       "      <td>2011</td>\n",
       "      <td>FEMALE</td>\n",
       "      <td>HISPANIC</td>\n",
       "    </tr>\n",
       "    <tr>\n",
       "      <th>1</th>\n",
       "      <td>2011</td>\n",
       "      <td>MALE</td>\n",
       "      <td>ASIAN</td>\n",
       "    </tr>\n",
       "    <tr>\n",
       "      <th>2</th>\n",
       "      <td>2011</td>\n",
       "      <td>MALE</td>\n",
       "      <td>ASIAN</td>\n",
       "    </tr>\n",
       "    <tr>\n",
       "      <th>3</th>\n",
       "      <td>2011</td>\n",
       "      <td>MALE</td>\n",
       "      <td>ASIAN</td>\n",
       "    </tr>\n",
       "    <tr>\n",
       "      <th>4</th>\n",
       "      <td>2011</td>\n",
       "      <td>MALE</td>\n",
       "      <td>ASIAN</td>\n",
       "    </tr>\n",
       "    <tr>\n",
       "      <th>5</th>\n",
       "      <td>2011</td>\n",
       "      <td>MALE</td>\n",
       "      <td>ASIAN</td>\n",
       "    </tr>\n",
       "    <tr>\n",
       "      <th>6</th>\n",
       "      <td>2011</td>\n",
       "      <td>MALE</td>\n",
       "      <td>ASIAN</td>\n",
       "    </tr>\n",
       "    <tr>\n",
       "      <th>7</th>\n",
       "      <td>2011</td>\n",
       "      <td>MALE</td>\n",
       "      <td>ASIAN</td>\n",
       "    </tr>\n",
       "    <tr>\n",
       "      <th>8</th>\n",
       "      <td>2011</td>\n",
       "      <td>MALE</td>\n",
       "      <td>ASIAN</td>\n",
       "    </tr>\n",
       "  </tbody>\n",
       "</table>\n",
       "</div>"
      ],
      "text/plain": [
       "  Year_of_Birth  Gender Ethnicity\n",
       "0          2011  FEMALE  HISPANIC\n",
       "1          2011    MALE     ASIAN\n",
       "2          2011    MALE     ASIAN\n",
       "3          2011    MALE     ASIAN\n",
       "4          2011    MALE     ASIAN\n",
       "5          2011    MALE     ASIAN\n",
       "6          2011    MALE     ASIAN\n",
       "7          2011    MALE     ASIAN\n",
       "8          2011    MALE     ASIAN"
      ]
     },
     "execution_count": 10,
     "metadata": {},
     "output_type": "execute_result"
    }
   ],
   "source": [
    "pd.DataFrame([x.split()[0:3] for x in lines[1:10]], columns=lines[0].split()[0:3])"
   ]
  }
 ],
 "metadata": {
  "kernelspec": {
   "display_name": "Python 3",
   "language": "python",
   "name": "python3"
  },
  "language_info": {
   "codemirror_mode": {
    "name": "ipython",
    "version": 3
   },
   "file_extension": ".py",
   "mimetype": "text/x-python",
   "name": "python",
   "nbconvert_exporter": "python",
   "pygments_lexer": "ipython3",
   "version": "3.10.8"
  }
 },
 "nbformat": 4,
 "nbformat_minor": 2
}
