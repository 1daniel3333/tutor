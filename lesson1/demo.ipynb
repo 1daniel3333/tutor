{
 "cells": [
  {
   "cell_type": "markdown",
   "metadata": {},
   "source": [
    "## How to import data"
   ]
  },
  {
   "cell_type": "code",
   "execution_count": null,
   "metadata": {},
   "outputs": [],
   "source": [
    "#for a csv, comma separated values you can use pandas\n",
    "import pandas as pd\n",
    "data = pd.read_csv('Popular_Baby_Names.csv')\n",
    "data.head()"
   ]
  },
  {
   "cell_type": "code",
   "execution_count": null,
   "metadata": {},
   "outputs": [],
   "source": [
    "#check the raw format inside a csv\n",
    "with open('Popular_Baby_Names.csv') as f:\n",
    "    lines=f.readlines()\n",
    "lines[:10]"
   ]
  },
  {
   "cell_type": "markdown",
   "metadata": {},
   "source": [
    "##Different raw data format, our target is to transit needed data to pd acceptable format"
   ]
  },
  {
   "cell_type": "code",
   "execution_count": null,
   "metadata": {},
   "outputs": [],
   "source": [
    "## If you want to read files, you can use below format\n",
    "with open(\"Popular_Baby_Names_space.txt\") as f:   #change file name\n",
    "    lines = f.readlines()         #read file content to lines"
   ]
  },
  {
   "cell_type": "code",
   "execution_count": null,
   "metadata": {},
   "outputs": [],
   "source": [
    "print(type(lines))                #print type of lines\n"
   ]
  },
  {
   "cell_type": "code",
   "execution_count": null,
   "metadata": {},
   "outputs": [],
   "source": [
    "len(lines)"
   ]
  },
  {
   "cell_type": "code",
   "execution_count": null,
   "metadata": {},
   "outputs": [],
   "source": [
    "lines[0]"
   ]
  },
  {
   "cell_type": "code",
   "execution_count": null,
   "metadata": {},
   "outputs": [],
   "source": [
    "lines[57582]"
   ]
  },
  {
   "cell_type": "code",
   "execution_count": null,
   "metadata": {},
   "outputs": [],
   "source": [
    "lines[57581]"
   ]
  },
  {
   "cell_type": "code",
   "execution_count": null,
   "metadata": {},
   "outputs": [],
   "source": [
    "lines[-1]"
   ]
  },
  {
   "cell_type": "code",
   "execution_count": null,
   "metadata": {},
   "outputs": [],
   "source": [
    "print(lines[0:10])             #print lines, from row 0~10"
   ]
  },
  {
   "cell_type": "markdown",
   "metadata": {},
   "source": [
    "### How Dataframe can be assigned"
   ]
  },
  {
   "cell_type": "code",
   "execution_count": null,
   "metadata": {},
   "outputs": [],
   "source": [
    "#Let's make some data\n",
    "columns = ['a', 'b', 'c','d']\n",
    "data = [[1, 2, 3, 4], [5, 6, 7, 8], [9, 10,11, 12]]\n",
    "df = pd.DataFrame(data=data, columns=columns)\n",
    "df"
   ]
  },
  {
   "cell_type": "code",
   "execution_count": null,
   "metadata": {},
   "outputs": [],
   "source": [
    "#Now observe the df again\n",
    "lines[0:10]"
   ]
  },
  {
   "cell_type": "code",
   "execution_count": null,
   "metadata": {},
   "outputs": [],
   "source": [
    "# the first three column is Year_of_Birth Gender Ethnicity, content is split by space\n",
    "# we can use a python build in function called split, by default split by space, but you can assign the separator by split(\",\")\n",
    "sent = 'This is a sentence sperate by space.'\n",
    "print(f'We use default split function for \"{sent}\", \\nresult is {sent.split()}')\n",
    "sent_comma = 'Another sentence with apple,banana,cat'\n",
    "print(f'\\nWe use comma as seperator for \"{sent_comma}\", \\nresult is {sent_comma.split(\",\")}')\n"
   ]
  },
  {
   "cell_type": "code",
   "execution_count": null,
   "metadata": {},
   "outputs": [],
   "source": [
    "# So we can handle space separate word by split\n",
    "columns=lines[0].split()\n",
    "print(f'This will be the columns names: {columns}')\n"
   ]
  },
  {
   "cell_type": "code",
   "execution_count": null,
   "metadata": {},
   "outputs": [],
   "source": [
    "a=[]\n",
    "a1 = [1,2]\n",
    "a2 = [3,4]\n",
    "a3 = [5,6]\n",
    "\n",
    "a.append(a1)\n",
    "print(a)"
   ]
  },
  {
   "cell_type": "code",
   "execution_count": null,
   "metadata": {},
   "outputs": [],
   "source": [
    "a.append(a2)\n",
    "print(a)"
   ]
  },
  {
   "cell_type": "code",
   "execution_count": null,
   "metadata": {},
   "outputs": [],
   "source": [
    "#Now handling the content, in list, if you want to add something into list, you can use append\n",
    "content = []\n",
    "for line in lines[1:]:\n",
    "    content.append(line.split())\n",
    "    \n",
    "print(f'Check the first 10 rows of the content: {content[0:10]}')"
   ]
  },
  {
   "cell_type": "code",
   "execution_count": null,
   "metadata": {},
   "outputs": [],
   "source": [
    "#Now we can assign both contenct and columns to df\n",
    "df = pd.DataFrame(data=content, columns=columns)\n",
    "print(df.head())"
   ]
  },
  {
   "cell_type": "code",
   "execution_count": null,
   "metadata": {},
   "outputs": [],
   "source": []
  },
  {
   "cell_type": "code",
   "execution_count": null,
   "metadata": {},
   "outputs": [],
   "source": [
    "#that's great, now we try to write this to a function for future use\n",
    "import pandas as pd\n",
    "def to_df(lines:list)->pd.DataFrame:\n",
    "    columns=lines[0].split()\n",
    "    content = []\n",
    "    for line in lines[1:]:\n",
    "        content.append(line.split())\n",
    "    df = pd.DataFrame(data=content, columns=columns)\n",
    "    return df"
   ]
  },
  {
   "cell_type": "code",
   "execution_count": null,
   "metadata": {},
   "outputs": [],
   "source": [
    "# try again, and you'll get same result\n",
    "data = to_df(lines)\n",
    "data.head()"
   ]
  },
  {
   "cell_type": "markdown",
   "metadata": {},
   "source": [
    "### If format is some wording separate inside?"
   ]
  },
  {
   "cell_type": "code",
   "execution_count": null,
   "metadata": {},
   "outputs": [],
   "source": [
    "#What if there's some wording separate inside?\n",
    "\"\"\"\n",
    "Below is Data of Year 2011\n",
    "============================================================\n",
    "Year_of_Birth Gender Child's_First_Name Count Rank\n",
    "2011 FEMALE GERALDINE 13 75\n",
    "2011 MALE VINCENT 71 13\n",
    "\n",
    "Below is Data of Year 2012\n",
    "============================================================\n",
    "Year_of_Birth Gender Child's_First_Name Count Rank\n",
    "2012 FEMALE EMERSON 11 82\n",
    "2012 FEMALE VICKY 25 30\n",
    "\"\"\"\n",
    "with open('Popular_Baby_Names_space_spl_year.txt') as f:\n",
    "    lines=f.readlines()\n",
    "lines[0:10]"
   ]
  },
  {
   "cell_type": "code",
   "execution_count": null,
   "metadata": {},
   "outputs": [],
   "source": [
    "#In this case, observing data, you'll see there's a special character '=' inside\n",
    "#So we want to get location of each '=' in list\n",
    "location = []\n",
    "for idx in range(len(lines)):\n",
    "    if '=' in lines[idx]:\n",
    "        location.append(idx)\n",
    "print(f'Location of each \"=\" is: {location})')\n",
    "    "
   ]
  },
  {
   "cell_type": "code",
   "execution_count": null,
   "metadata": {},
   "outputs": [],
   "source": [
    "## so we know if we want to get header, will be each location +1, and we want to extract the data we want\n",
    "start = location[0]+1\n",
    "end = location[1]-2\n",
    "print(f'first loc is {start} and end will be {end}')\n",
    "print(f'check it: Start {lines[start]}, end: {lines[end-1]}')"
   ]
  },
  {
   "cell_type": "code",
   "execution_count": null,
   "metadata": {},
   "outputs": [],
   "source": [
    "#So we can put lines[start:end] to previous function\n",
    "to_df(lines[start:end]).head()\n"
   ]
  },
  {
   "cell_type": "code",
   "execution_count": null,
   "metadata": {},
   "outputs": [],
   "source": [
    "#Because the data is in a split format, we'll need a append function to merge together\n",
    "columns1 = ['a', 'b', 'c']\n",
    "data1 = [[1, 2, 3], [4, 5, 6], [7, 8, 9]]\n",
    "df1 = pd.DataFrame(data=data1, columns=columns1)\n",
    "\n",
    "columns2 = ['a', 'b', 'c']\n",
    "data2 = [[10, 11, 12], [13, 14, 15], [16, 17, 18]]\n",
    "df2 = pd.DataFrame(data=data2, columns=columns2)\n",
    "\n",
    "print(f'df1:\\n{df1}')\n",
    "print(f'df2:\\n{df2}')\n",
    "\n",
    "#Now we can append together\n",
    "df = pd.concat([df1, df2], ignore_index=True,)\n",
    "print(f'After merge, df:\\n{df}')"
   ]
  },
  {
   "cell_type": "code",
   "execution_count": null,
   "metadata": {},
   "outputs": [],
   "source": [
    "#Observing below, you'll see df is printed by year\n",
    "for idx in range(len(location)):\n",
    "    if idx>=len(location)-1:\n",
    "        start = location[idx]+1\n",
    "        end = None\n",
    "    else:\n",
    "        start = location[idx]+1\n",
    "        end = location[idx+1]-2\n",
    "    print(to_df(lines[start:end]).head())"
   ]
  },
  {
   "cell_type": "code",
   "execution_count": null,
   "metadata": {},
   "outputs": [],
   "source": [
    "#Now we want to save this to a df for storage, and you had a complete dataframe\n",
    "df=pd.DataFrame()\n",
    "for idx in range(len(location)):\n",
    "    if idx>=len(location)-1:\n",
    "        start = location[idx]+1\n",
    "        end = None\n",
    "    else:\n",
    "        start = location[idx]+1\n",
    "        end = location[idx+1]-2\n",
    "    tmp = to_df(lines[start:end])\n",
    "    df = pd.concat([df, tmp], ignore_index=True,)\n",
    "df.head()"
   ]
  },
  {
   "cell_type": "markdown",
   "metadata": {},
   "source": [
    "### If data we had is a aligned format"
   ]
  },
  {
   "cell_type": "code",
   "execution_count": null,
   "metadata": {},
   "outputs": [],
   "source": [
    "#What if there's some tab inside?\n",
    "\"\"\"\n",
    "Year_of_Birth   Gender      Child's_First_Name  Count   Rank\n",
    "2011            FEMALE      GERALDINE           13      75\n",
    "2011            MALE        VINCENT             71      13\n",
    "2011            MALE        VICTOR              17      49\n",
    "2011            MALE        TYLER               31      35\n",
    "\"\"\"\n",
    "\n",
    "with open('Popular_Baby_Names_space_tab_lign.txt') as f:\n",
    "    lines=f.readlines()\n",
    "lines[0:10]"
   ]
  },
  {
   "cell_type": "code",
   "execution_count": null,
   "metadata": {},
   "outputs": [],
   "source": [
    "#Previous function can also apply\n",
    "df = to_df(lines)\n",
    "df.head()"
   ]
  },
  {
   "cell_type": "markdown",
   "metadata": {},
   "source": [
    "### Save file"
   ]
  },
  {
   "cell_type": "code",
   "execution_count": null,
   "metadata": {},
   "outputs": [],
   "source": [
    "#Once you had a dataframe, you can perform many caculation ot join, we'll introduce in afterward, now you can save df to a csv\n",
    "df.to_csv('df.csv', index=False)"
   ]
  }
 ],
 "metadata": {
  "kernelspec": {
   "display_name": "Python 3",
   "language": "python",
   "name": "python3"
  },
  "language_info": {
   "codemirror_mode": {
    "name": "ipython",
    "version": 3
   },
   "file_extension": ".py",
   "mimetype": "text/x-python",
   "name": "python",
   "nbconvert_exporter": "python",
   "pygments_lexer": "ipython3",
   "version": "3.11.6"
  }
 },
 "nbformat": 4,
 "nbformat_minor": 2
}
