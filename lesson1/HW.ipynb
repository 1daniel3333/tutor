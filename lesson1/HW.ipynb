{
 "cells": [
  {
   "cell_type": "markdown",
   "metadata": {},
   "source": [
    "### If Data had no titlem but you know the title"
   ]
  },
  {
   "cell_type": "code",
   "execution_count": 20,
   "metadata": {},
   "outputs": [
    {
     "data": {
      "text/plain": [
       "['2011 FEMALE GERALDINE 13 75\\n',\n",
       " '2011 FEMALE GIA 21 67\\n',\n",
       " '2011 FEMALE GIANNA 49 42\\n',\n",
       " '2011 FEMALE GISELLE 38 51\\n',\n",
       " '2011 FEMALE GRACE 36 53\\n',\n",
       " '2011 FEMALE GUADALUPE 26 62\\n',\n",
       " '2011 FEMALE HAILEY 126 8\\n',\n",
       " '2011 FEMALE HALEY 14 74\\n',\n",
       " '2011 FEMALE HANNAH 17 71\\n',\n",
       " '2011 FEMALE HAYLEE 17 71\\n']"
      ]
     },
     "execution_count": 20,
     "metadata": {},
     "output_type": "execute_result"
    }
   ],
   "source": [
    "\"\"\"\n",
    "2011 FEMALE GERALDINE 13 75\n",
    "2011 FEMALE GIA 21 67\n",
    "2011 FEMALE GIANNA 49 42\n",
    "2011 FEMALE GISELLE 38 51\n",
    "2011 FEMALE GRACE 36 53\n",
    "\"\"\"\n",
    "with open('Popular_Baby_Names_space_missing_title.txt') as f:\n",
    "    lines=f.readlines()\n",
    "lines[0:10]"
   ]
  },
  {
   "cell_type": "code",
   "execution_count": 21,
   "metadata": {},
   "outputs": [
    {
     "name": "stdout",
     "output_type": "stream",
     "text": [
      "Your make up column name is ['Year_of_Birth', 'Gender', \"Child's_First_Name\", 'Count', 'Rank']\n"
     ]
    }
   ],
   "source": [
    "#We know how a dataframe being created df = pd.DataFrame(data=content, columns=columns)\n",
    "#Now what missing is the header/column name, so we can \"make\" a column to it\n",
    "columns=['Year_of_Birth', 'Gender', \"Child's_First_Name\", 'Count', 'Rank']\n",
    "print(f'Your make up column name is {columns}')"
   ]
  },
  {
   "cell_type": "code",
   "execution_count": 22,
   "metadata": {},
   "outputs": [
    {
     "data": {
      "text/html": [
       "<div>\n",
       "<style scoped>\n",
       "    .dataframe tbody tr th:only-of-type {\n",
       "        vertical-align: middle;\n",
       "    }\n",
       "\n",
       "    .dataframe tbody tr th {\n",
       "        vertical-align: top;\n",
       "    }\n",
       "\n",
       "    .dataframe thead th {\n",
       "        text-align: right;\n",
       "    }\n",
       "</style>\n",
       "<table border=\"1\" class=\"dataframe\">\n",
       "  <thead>\n",
       "    <tr style=\"text-align: right;\">\n",
       "      <th></th>\n",
       "      <th>Year_of_Birth</th>\n",
       "      <th>Gender</th>\n",
       "      <th>Child's_First_Name</th>\n",
       "      <th>Count</th>\n",
       "      <th>Rank</th>\n",
       "    </tr>\n",
       "  </thead>\n",
       "  <tbody>\n",
       "    <tr>\n",
       "      <th>0</th>\n",
       "      <td>2011</td>\n",
       "      <td>FEMALE</td>\n",
       "      <td>GERALDINE</td>\n",
       "      <td>13</td>\n",
       "      <td>75</td>\n",
       "    </tr>\n",
       "    <tr>\n",
       "      <th>1</th>\n",
       "      <td>2011</td>\n",
       "      <td>FEMALE</td>\n",
       "      <td>GIA</td>\n",
       "      <td>21</td>\n",
       "      <td>67</td>\n",
       "    </tr>\n",
       "    <tr>\n",
       "      <th>2</th>\n",
       "      <td>2011</td>\n",
       "      <td>FEMALE</td>\n",
       "      <td>GIANNA</td>\n",
       "      <td>49</td>\n",
       "      <td>42</td>\n",
       "    </tr>\n",
       "    <tr>\n",
       "      <th>3</th>\n",
       "      <td>2011</td>\n",
       "      <td>FEMALE</td>\n",
       "      <td>GISELLE</td>\n",
       "      <td>38</td>\n",
       "      <td>51</td>\n",
       "    </tr>\n",
       "    <tr>\n",
       "      <th>4</th>\n",
       "      <td>2011</td>\n",
       "      <td>FEMALE</td>\n",
       "      <td>GRACE</td>\n",
       "      <td>36</td>\n",
       "      <td>53</td>\n",
       "    </tr>\n",
       "  </tbody>\n",
       "</table>\n",
       "</div>"
      ],
      "text/plain": [
       "  Year_of_Birth  Gender Child's_First_Name Count Rank\n",
       "0          2011  FEMALE          GERALDINE    13   75\n",
       "1          2011  FEMALE                GIA    21   67\n",
       "2          2011  FEMALE             GIANNA    49   42\n",
       "3          2011  FEMALE            GISELLE    38   51\n",
       "4          2011  FEMALE              GRACE    36   53"
      ]
     },
     "execution_count": 22,
     "metadata": {},
     "output_type": "execute_result"
    }
   ],
   "source": [
    "#Then assign the column name to dataframe\n",
    "content = []\n",
    "for line in lines[:]:\n",
    "    content.append(line.split())\n",
    "df = pd.DataFrame(data=content, columns=columns)\n",
    "df.head()"
   ]
  },
  {
   "cell_type": "markdown",
   "metadata": {},
   "source": [
    "### If title and content had some text"
   ]
  },
  {
   "cell_type": "code",
   "execution_count": 9,
   "metadata": {},
   "outputs": [
    {
     "data": {
      "text/plain": [
       "[\"Year_of_Birth Gender Child's_First_Name Count Rank\\n\",\n",
       " '==================================================\\n',\n",
       " '2011 FEMALE GERALDINE 13 75\\n',\n",
       " '2011 FEMALE GIA 21 67\\n',\n",
       " '2011 FEMALE GIANNA 49 42\\n',\n",
       " '2011 FEMALE GISELLE 38 51\\n',\n",
       " '2011 FEMALE GRACE 36 53\\n',\n",
       " '2011 FEMALE GUADALUPE 26 62\\n',\n",
       " '2011 FEMALE HAILEY 126 8\\n',\n",
       " '2011 FEMALE HALEY 14 74\\n']"
      ]
     },
     "execution_count": 9,
     "metadata": {},
     "output_type": "execute_result"
    }
   ],
   "source": [
    "\"\"\"\n",
    "Year_of_Birth Gender Child's_First_Name Count Rank\n",
    "==================================================\n",
    "2011 FEMALE GERALDINE 13 75\n",
    "2011 FEMALE GIA 21 67\n",
    "\"\"\"\n",
    "with open('Popular_Baby_Names_space_title_separ.txt') as f:\n",
    "    lines=f.readlines()\n",
    "lines[0:10]"
   ]
  },
  {
   "cell_type": "code",
   "execution_count": 18,
   "metadata": {},
   "outputs": [
    {
     "data": {
      "text/html": [
       "<div>\n",
       "<style scoped>\n",
       "    .dataframe tbody tr th:only-of-type {\n",
       "        vertical-align: middle;\n",
       "    }\n",
       "\n",
       "    .dataframe tbody tr th {\n",
       "        vertical-align: top;\n",
       "    }\n",
       "\n",
       "    .dataframe thead th {\n",
       "        text-align: right;\n",
       "    }\n",
       "</style>\n",
       "<table border=\"1\" class=\"dataframe\">\n",
       "  <thead>\n",
       "    <tr style=\"text-align: right;\">\n",
       "      <th></th>\n",
       "      <th>Year_of_Birth</th>\n",
       "      <th>Gender</th>\n",
       "      <th>Child's_First_Name</th>\n",
       "      <th>Count</th>\n",
       "      <th>Rank</th>\n",
       "    </tr>\n",
       "  </thead>\n",
       "  <tbody>\n",
       "    <tr>\n",
       "      <th>0</th>\n",
       "      <td>==============================================...</td>\n",
       "      <td>None</td>\n",
       "      <td>None</td>\n",
       "      <td>None</td>\n",
       "      <td>None</td>\n",
       "    </tr>\n",
       "    <tr>\n",
       "      <th>1</th>\n",
       "      <td>2011</td>\n",
       "      <td>FEMALE</td>\n",
       "      <td>GERALDINE</td>\n",
       "      <td>13</td>\n",
       "      <td>75</td>\n",
       "    </tr>\n",
       "    <tr>\n",
       "      <th>2</th>\n",
       "      <td>2011</td>\n",
       "      <td>FEMALE</td>\n",
       "      <td>GIA</td>\n",
       "      <td>21</td>\n",
       "      <td>67</td>\n",
       "    </tr>\n",
       "    <tr>\n",
       "      <th>3</th>\n",
       "      <td>2011</td>\n",
       "      <td>FEMALE</td>\n",
       "      <td>GIANNA</td>\n",
       "      <td>49</td>\n",
       "      <td>42</td>\n",
       "    </tr>\n",
       "    <tr>\n",
       "      <th>4</th>\n",
       "      <td>2011</td>\n",
       "      <td>FEMALE</td>\n",
       "      <td>GISELLE</td>\n",
       "      <td>38</td>\n",
       "      <td>51</td>\n",
       "    </tr>\n",
       "  </tbody>\n",
       "</table>\n",
       "</div>"
      ],
      "text/plain": [
       "                                       Year_of_Birth  Gender  \\\n",
       "0  ==============================================...    None   \n",
       "1                                               2011  FEMALE   \n",
       "2                                               2011  FEMALE   \n",
       "3                                               2011  FEMALE   \n",
       "4                                               2011  FEMALE   \n",
       "\n",
       "  Child's_First_Name Count  Rank  \n",
       "0               None  None  None  \n",
       "1          GERALDINE    13    75  \n",
       "2                GIA    21    67  \n",
       "3             GIANNA    49    42  \n",
       "4            GISELLE    38    51  "
      ]
     },
     "execution_count": 18,
     "metadata": {},
     "output_type": "execute_result"
    }
   ],
   "source": [
    "#We cannot directly use previous functions, output will like below\n",
    "columns=lines[0].split()\n",
    "content = []\n",
    "for line in lines[1:]:\n",
    "    content.append(line.split())\n",
    "df = pd.DataFrame(data=content, columns=columns)\n",
    "df.head()"
   ]
  },
  {
   "cell_type": "code",
   "execution_count": 14,
   "metadata": {},
   "outputs": [
    {
     "name": "stdout",
     "output_type": "stream",
     "text": [
      "index 1 in lines is \n",
      "==================================================\n",
      "\n",
      "index 2 in lines is \n",
      "2011 FEMALE GERALDINE 13 75\n",
      "--->this is starting location we want\n"
     ]
    }
   ],
   "source": [
    "#Check function to_df again, you'll see content below we start from 1, because 0 is column, so we need to change start location of content to 2 in the case.\n",
    "\"\"\"\n",
    "def to_df(lines:list)->pd.DataFrame:\n",
    "    columns=lines[0].split()\n",
    "    content = []\n",
    "    for line in lines[1:]: <- here we start from 1\n",
    "        content.append(line.split())\n",
    "    df = pd.DataFrame(data=content, columns=columns)\n",
    "    return df\n",
    "\"\"\"\n",
    "print(f'index 1 in lines is \\n{lines[1]}')\n",
    "print(f'index 2 in lines is \\n{lines[2]}--->this is starting location we want')\n"
   ]
  },
  {
   "cell_type": "code",
   "execution_count": 15,
   "metadata": {},
   "outputs": [
    {
     "data": {
      "text/html": [
       "<div>\n",
       "<style scoped>\n",
       "    .dataframe tbody tr th:only-of-type {\n",
       "        vertical-align: middle;\n",
       "    }\n",
       "\n",
       "    .dataframe tbody tr th {\n",
       "        vertical-align: top;\n",
       "    }\n",
       "\n",
       "    .dataframe thead th {\n",
       "        text-align: right;\n",
       "    }\n",
       "</style>\n",
       "<table border=\"1\" class=\"dataframe\">\n",
       "  <thead>\n",
       "    <tr style=\"text-align: right;\">\n",
       "      <th></th>\n",
       "      <th>Year_of_Birth</th>\n",
       "      <th>Gender</th>\n",
       "      <th>Child's_First_Name</th>\n",
       "      <th>Count</th>\n",
       "      <th>Rank</th>\n",
       "    </tr>\n",
       "  </thead>\n",
       "  <tbody>\n",
       "    <tr>\n",
       "      <th>0</th>\n",
       "      <td>2011</td>\n",
       "      <td>FEMALE</td>\n",
       "      <td>GERALDINE</td>\n",
       "      <td>13</td>\n",
       "      <td>75</td>\n",
       "    </tr>\n",
       "    <tr>\n",
       "      <th>1</th>\n",
       "      <td>2011</td>\n",
       "      <td>FEMALE</td>\n",
       "      <td>GIA</td>\n",
       "      <td>21</td>\n",
       "      <td>67</td>\n",
       "    </tr>\n",
       "    <tr>\n",
       "      <th>2</th>\n",
       "      <td>2011</td>\n",
       "      <td>FEMALE</td>\n",
       "      <td>GIANNA</td>\n",
       "      <td>49</td>\n",
       "      <td>42</td>\n",
       "    </tr>\n",
       "    <tr>\n",
       "      <th>3</th>\n",
       "      <td>2011</td>\n",
       "      <td>FEMALE</td>\n",
       "      <td>GISELLE</td>\n",
       "      <td>38</td>\n",
       "      <td>51</td>\n",
       "    </tr>\n",
       "    <tr>\n",
       "      <th>4</th>\n",
       "      <td>2011</td>\n",
       "      <td>FEMALE</td>\n",
       "      <td>GRACE</td>\n",
       "      <td>36</td>\n",
       "      <td>53</td>\n",
       "    </tr>\n",
       "  </tbody>\n",
       "</table>\n",
       "</div>"
      ],
      "text/plain": [
       "  Year_of_Birth  Gender Child's_First_Name Count Rank\n",
       "0          2011  FEMALE          GERALDINE    13   75\n",
       "1          2011  FEMALE                GIA    21   67\n",
       "2          2011  FEMALE             GIANNA    49   42\n",
       "3          2011  FEMALE            GISELLE    38   51\n",
       "4          2011  FEMALE              GRACE    36   53"
      ]
     },
     "execution_count": 15,
     "metadata": {},
     "output_type": "execute_result"
    }
   ],
   "source": [
    "#So we need to change the starting location\n",
    "columns=lines[0].split()\n",
    "content = []\n",
    "for line in lines[2:]: #<- change to 2\n",
    "    content.append(line.split())\n",
    "df = pd.DataFrame(data=content, columns=columns)\n",
    "df.head()\n"
   ]
  }
 ],
 "metadata": {
  "kernelspec": {
   "display_name": "Python 3",
   "language": "python",
   "name": "python3"
  },
  "language_info": {
   "codemirror_mode": {
    "name": "ipython",
    "version": 3
   },
   "file_extension": ".py",
   "mimetype": "text/x-python",
   "name": "python",
   "nbconvert_exporter": "python",
   "pygments_lexer": "ipython3",
   "version": "3.11.0"
  }
 },
 "nbformat": 4,
 "nbformat_minor": 2
}
