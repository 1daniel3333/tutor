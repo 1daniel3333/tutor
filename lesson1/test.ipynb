{
 "cells": [
  {
   "cell_type": "markdown",
   "metadata": {},
   "source": [
    "## How to import data"
   ]
  },
  {
   "cell_type": "code",
   "execution_count": 51,
   "metadata": {},
   "outputs": [
    {
     "data": {
      "text/html": [
       "<div>\n",
       "<style scoped>\n",
       "    .dataframe tbody tr th:only-of-type {\n",
       "        vertical-align: middle;\n",
       "    }\n",
       "\n",
       "    .dataframe tbody tr th {\n",
       "        vertical-align: top;\n",
       "    }\n",
       "\n",
       "    .dataframe thead th {\n",
       "        text-align: right;\n",
       "    }\n",
       "</style>\n",
       "<table border=\"1\" class=\"dataframe\">\n",
       "  <thead>\n",
       "    <tr style=\"text-align: right;\">\n",
       "      <th></th>\n",
       "      <th>Year of Birth</th>\n",
       "      <th>Gender</th>\n",
       "      <th>Child's First Name</th>\n",
       "      <th>Count</th>\n",
       "      <th>Rank</th>\n",
       "    </tr>\n",
       "  </thead>\n",
       "  <tbody>\n",
       "    <tr>\n",
       "      <th>0</th>\n",
       "      <td>2011</td>\n",
       "      <td>FEMALE</td>\n",
       "      <td>GERALDINE</td>\n",
       "      <td>13</td>\n",
       "      <td>75</td>\n",
       "    </tr>\n",
       "    <tr>\n",
       "      <th>1</th>\n",
       "      <td>2011</td>\n",
       "      <td>MALE</td>\n",
       "      <td>VINCENT</td>\n",
       "      <td>71</td>\n",
       "      <td>13</td>\n",
       "    </tr>\n",
       "    <tr>\n",
       "      <th>2</th>\n",
       "      <td>2011</td>\n",
       "      <td>MALE</td>\n",
       "      <td>VICTOR</td>\n",
       "      <td>17</td>\n",
       "      <td>49</td>\n",
       "    </tr>\n",
       "    <tr>\n",
       "      <th>3</th>\n",
       "      <td>2011</td>\n",
       "      <td>MALE</td>\n",
       "      <td>TYLER</td>\n",
       "      <td>31</td>\n",
       "      <td>35</td>\n",
       "    </tr>\n",
       "    <tr>\n",
       "      <th>4</th>\n",
       "      <td>2011</td>\n",
       "      <td>MALE</td>\n",
       "      <td>TRAVIS</td>\n",
       "      <td>11</td>\n",
       "      <td>55</td>\n",
       "    </tr>\n",
       "  </tbody>\n",
       "</table>\n",
       "</div>"
      ],
      "text/plain": [
       "   Year of Birth  Gender Child's First Name  Count  Rank\n",
       "0           2011  FEMALE          GERALDINE     13    75\n",
       "1           2011    MALE            VINCENT     71    13\n",
       "2           2011    MALE             VICTOR     17    49\n",
       "3           2011    MALE              TYLER     31    35\n",
       "4           2011    MALE             TRAVIS     11    55"
      ]
     },
     "execution_count": 51,
     "metadata": {},
     "output_type": "execute_result"
    }
   ],
   "source": [
    "#for a csv, comma separated values you can use pandas\n",
    "import pandas as pd\n",
    "data = pd.read_csv('Popular_Baby_Names.csv')\n",
    "data.head()"
   ]
  },
  {
   "cell_type": "code",
   "execution_count": 52,
   "metadata": {},
   "outputs": [
    {
     "data": {
      "text/plain": [
       "[\"Year of Birth,Gender,Child's First Name,Count,Rank\\n\",\n",
       " '2011,FEMALE,GERALDINE,13,75\\n',\n",
       " '2011,MALE,VINCENT,71,13\\n',\n",
       " '2011,MALE,VICTOR,17,49\\n',\n",
       " '2011,MALE,TYLER,31,35\\n',\n",
       " '2011,MALE,TRAVIS,11,55\\n',\n",
       " '2011,MALE,TONY,16,50\\n',\n",
       " '2011,MALE,TIMOTHY,16,50\\n',\n",
       " '2011,MALE,THOMAS,18,48\\n',\n",
       " '2011,MALE,TERRY,11,55\\n']"
      ]
     },
     "execution_count": 52,
     "metadata": {},
     "output_type": "execute_result"
    }
   ],
   "source": [
    "#check the raw format inside a csv\n",
    "with open('Popular_Baby_Names.csv') as f:\n",
    "    lines=f.readlines()\n",
    "lines[:10]"
   ]
  },
  {
   "cell_type": "markdown",
   "metadata": {},
   "source": [
    "##Different raw data format, our target is to transit needed data to pd acceptable format"
   ]
  },
  {
   "cell_type": "code",
   "execution_count": null,
   "metadata": {},
   "outputs": [],
   "source": [
    "## If you want to read files, you can use below format\n",
    "with open(\"Your file name\") as f:   #change file name\n",
    "    content = f.readlines()         #read file content to content\n",
    "print(type(content))                #print type of content\n",
    "print(content[0:10])                #print content, from row 0~10"
   ]
  },
  {
   "cell_type": "code",
   "execution_count": 67,
   "metadata": {},
   "outputs": [
    {
     "data": {
      "text/plain": [
       "[\"Year_of_Birth Gender Child's_First_Name Count Rank\\n\",\n",
       " '2011 FEMALE GERALDINE 13 75\\n',\n",
       " '2011 FEMALE GIA 21 67\\n',\n",
       " '2011 FEMALE GIANNA 49 42\\n',\n",
       " '2011 FEMALE GISELLE 38 51\\n',\n",
       " '2011 FEMALE GRACE 36 53\\n',\n",
       " '2011 FEMALE GUADALUPE 26 62\\n',\n",
       " '2011 FEMALE HAILEY 126 8\\n',\n",
       " '2011 FEMALE HALEY 14 74\\n',\n",
       " '2011 FEMALE HANNAH 17 71\\n']"
      ]
     },
     "execution_count": 67,
     "metadata": {},
     "output_type": "execute_result"
    }
   ],
   "source": [
    "#If there's space separate\n",
    "#check the raw format inside a csv\n",
    "with open('Popular_Baby_Names_space.txt') as f:\n",
    "    lines=f.readlines()\n",
    "lines[0:10]"
   ]
  },
  {
   "cell_type": "markdown",
   "metadata": {},
   "source": [
    "### How Dataframe can be assigned"
   ]
  },
  {
   "cell_type": "code",
   "execution_count": 68,
   "metadata": {},
   "outputs": [
    {
     "data": {
      "text/html": [
       "<div>\n",
       "<style scoped>\n",
       "    .dataframe tbody tr th:only-of-type {\n",
       "        vertical-align: middle;\n",
       "    }\n",
       "\n",
       "    .dataframe tbody tr th {\n",
       "        vertical-align: top;\n",
       "    }\n",
       "\n",
       "    .dataframe thead th {\n",
       "        text-align: right;\n",
       "    }\n",
       "</style>\n",
       "<table border=\"1\" class=\"dataframe\">\n",
       "  <thead>\n",
       "    <tr style=\"text-align: right;\">\n",
       "      <th></th>\n",
       "      <th>a</th>\n",
       "      <th>b</th>\n",
       "      <th>c</th>\n",
       "    </tr>\n",
       "  </thead>\n",
       "  <tbody>\n",
       "    <tr>\n",
       "      <th>0</th>\n",
       "      <td>1</td>\n",
       "      <td>2</td>\n",
       "      <td>3</td>\n",
       "    </tr>\n",
       "    <tr>\n",
       "      <th>1</th>\n",
       "      <td>4</td>\n",
       "      <td>5</td>\n",
       "      <td>6</td>\n",
       "    </tr>\n",
       "    <tr>\n",
       "      <th>2</th>\n",
       "      <td>7</td>\n",
       "      <td>8</td>\n",
       "      <td>9</td>\n",
       "    </tr>\n",
       "  </tbody>\n",
       "</table>\n",
       "</div>"
      ],
      "text/plain": [
       "   a  b  c\n",
       "0  1  2  3\n",
       "1  4  5  6\n",
       "2  7  8  9"
      ]
     },
     "execution_count": 68,
     "metadata": {},
     "output_type": "execute_result"
    }
   ],
   "source": [
    "#Let's make some data\n",
    "columns = ['a', 'b', 'c']\n",
    "data = [[1, 2, 3], [4, 5, 6], [7, 8, 9]]\n",
    "df = pd.DataFrame(data=data, columns=columns)\n",
    "df"
   ]
  },
  {
   "cell_type": "code",
   "execution_count": 69,
   "metadata": {},
   "outputs": [
    {
     "data": {
      "text/html": [
       "<div>\n",
       "<style scoped>\n",
       "    .dataframe tbody tr th:only-of-type {\n",
       "        vertical-align: middle;\n",
       "    }\n",
       "\n",
       "    .dataframe tbody tr th {\n",
       "        vertical-align: top;\n",
       "    }\n",
       "\n",
       "    .dataframe thead th {\n",
       "        text-align: right;\n",
       "    }\n",
       "</style>\n",
       "<table border=\"1\" class=\"dataframe\">\n",
       "  <thead>\n",
       "    <tr style=\"text-align: right;\">\n",
       "      <th></th>\n",
       "      <th>a</th>\n",
       "      <th>b</th>\n",
       "      <th>c</th>\n",
       "      <th>d</th>\n",
       "    </tr>\n",
       "  </thead>\n",
       "  <tbody>\n",
       "    <tr>\n",
       "      <th>0</th>\n",
       "      <td>1</td>\n",
       "      <td>2</td>\n",
       "      <td>3</td>\n",
       "      <td>10</td>\n",
       "    </tr>\n",
       "    <tr>\n",
       "      <th>1</th>\n",
       "      <td>4</td>\n",
       "      <td>5</td>\n",
       "      <td>6</td>\n",
       "      <td>11</td>\n",
       "    </tr>\n",
       "    <tr>\n",
       "      <th>2</th>\n",
       "      <td>7</td>\n",
       "      <td>8</td>\n",
       "      <td>9</td>\n",
       "      <td>12</td>\n",
       "    </tr>\n",
       "  </tbody>\n",
       "</table>\n",
       "</div>"
      ],
      "text/plain": [
       "   a  b  c   d\n",
       "0  1  2  3  10\n",
       "1  4  5  6  11\n",
       "2  7  8  9  12"
      ]
     },
     "execution_count": 69,
     "metadata": {},
     "output_type": "execute_result"
    }
   ],
   "source": [
    "#Or you can add more data to df\n",
    "df['d']=[10,11,12]\n",
    "df"
   ]
  },
  {
   "cell_type": "code",
   "execution_count": 70,
   "metadata": {},
   "outputs": [
    {
     "data": {
      "text/plain": [
       "[\"Year_of_Birth Gender Child's_First_Name Count Rank\\n\",\n",
       " '2011 FEMALE GERALDINE 13 75\\n',\n",
       " '2011 FEMALE GIA 21 67\\n',\n",
       " '2011 FEMALE GIANNA 49 42\\n',\n",
       " '2011 FEMALE GISELLE 38 51\\n',\n",
       " '2011 FEMALE GRACE 36 53\\n',\n",
       " '2011 FEMALE GUADALUPE 26 62\\n',\n",
       " '2011 FEMALE HAILEY 126 8\\n',\n",
       " '2011 FEMALE HALEY 14 74\\n',\n",
       " '2011 FEMALE HANNAH 17 71\\n']"
      ]
     },
     "execution_count": 70,
     "metadata": {},
     "output_type": "execute_result"
    }
   ],
   "source": [
    "#Now observe the df again\n",
    "lines[0:10]"
   ]
  },
  {
   "cell_type": "code",
   "execution_count": 71,
   "metadata": {},
   "outputs": [
    {
     "name": "stdout",
     "output_type": "stream",
     "text": [
      "This is a sentence sperate by space.\n",
      "We use default split function, the result is ['This', 'is', 'a', 'sentence', 'sperate', 'by', 'space.']\n",
      "Another sentence with apple,banana,cat\n",
      "We use comma as seperator, the result is ['Another sentence with apple', 'banana', 'cat']\n"
     ]
    }
   ],
   "source": [
    "# the first three column is Year_of_Birth Gender Ethnicity, content is split by space\n",
    "# we can use a python build in function called split, by default split by space, but you can assign the separator by split(\",\")\n",
    "sent = 'This is a sentence sperate by space.'\n",
    "print(sent)\n",
    "print(f'We use default split function, the result is {sent.split()}')\n",
    "sent_comma = 'Another sentence with apple,banana,cat'\n",
    "print(sent_comma)\n",
    "print(f'We use comma as seperator, the result is {sent_comma.split(\",\")}')\n"
   ]
  },
  {
   "cell_type": "code",
   "execution_count": 72,
   "metadata": {},
   "outputs": [
    {
     "name": "stdout",
     "output_type": "stream",
     "text": [
      "This will be the columns names: ['Year_of_Birth', 'Gender', \"Child's_First_Name\", 'Count', 'Rank']\n"
     ]
    }
   ],
   "source": [
    "# So we can handle space separate word by split, now we only handle first 3 column, so choose from 0~2\n",
    "columns=lines[0].split()\n",
    "print(f'This will be the columns names: {columns}')\n"
   ]
  },
  {
   "cell_type": "code",
   "execution_count": 73,
   "metadata": {},
   "outputs": [
    {
     "name": "stdout",
     "output_type": "stream",
     "text": [
      "Check the first 10 rows of the content: [['2011', 'FEMALE', 'GERALDINE', '13', '75'], ['2011', 'FEMALE', 'GIA', '21', '67'], ['2011', 'FEMALE', 'GIANNA', '49', '42'], ['2011', 'FEMALE', 'GISELLE', '38', '51'], ['2011', 'FEMALE', 'GRACE', '36', '53'], ['2011', 'FEMALE', 'GUADALUPE', '26', '62'], ['2011', 'FEMALE', 'HAILEY', '126', '8'], ['2011', 'FEMALE', 'HALEY', '14', '74'], ['2011', 'FEMALE', 'HANNAH', '17', '71'], ['2011', 'FEMALE', 'HAYLEE', '17', '71']]\n"
     ]
    }
   ],
   "source": [
    "#Now handling the content, in list, if you want to add something into list, you can use append\n",
    "content = []\n",
    "for line in lines[1:]:\n",
    "    content.append(line.split())\n",
    "    \n",
    "print(f'Check the first 10 rows of the content: {content[0:10]}')"
   ]
  },
  {
   "cell_type": "code",
   "execution_count": 74,
   "metadata": {},
   "outputs": [
    {
     "data": {
      "text/plain": [
       "[]"
      ]
     },
     "execution_count": 74,
     "metadata": {},
     "output_type": "execute_result"
    }
   ],
   "source": [
    "[x for x in content if len(x)>5]"
   ]
  },
  {
   "cell_type": "code",
   "execution_count": 75,
   "metadata": {},
   "outputs": [
    {
     "name": "stdout",
     "output_type": "stream",
     "text": [
      "  Year_of_Birth  Gender Child's_First_Name Count Rank\n",
      "0          2011  FEMALE          GERALDINE    13   75\n",
      "1          2011  FEMALE                GIA    21   67\n",
      "2          2011  FEMALE             GIANNA    49   42\n",
      "3          2011  FEMALE            GISELLE    38   51\n",
      "4          2011  FEMALE              GRACE    36   53\n"
     ]
    }
   ],
   "source": [
    "#Now we can assign both contenct and columns to df\n",
    "df = pd.DataFrame(data=content, columns=columns)\n",
    "print(df.head())"
   ]
  },
  {
   "cell_type": "code",
   "execution_count": 7,
   "metadata": {},
   "outputs": [],
   "source": [
    "#that's great, now we try to write this to a function for future use\n",
    "import pandas as pd\n",
    "def to_df(lines:list)->pd.DataFrame:\n",
    "    columns=lines[0].split()\n",
    "    content = []\n",
    "    for line in lines[1:]:\n",
    "        content.append(line.split())\n",
    "    df = pd.DataFrame(data=content, columns=columns)\n",
    "    return df"
   ]
  },
  {
   "cell_type": "code",
   "execution_count": 78,
   "metadata": {},
   "outputs": [
    {
     "data": {
      "text/html": [
       "<div>\n",
       "<style scoped>\n",
       "    .dataframe tbody tr th:only-of-type {\n",
       "        vertical-align: middle;\n",
       "    }\n",
       "\n",
       "    .dataframe tbody tr th {\n",
       "        vertical-align: top;\n",
       "    }\n",
       "\n",
       "    .dataframe thead th {\n",
       "        text-align: right;\n",
       "    }\n",
       "</style>\n",
       "<table border=\"1\" class=\"dataframe\">\n",
       "  <thead>\n",
       "    <tr style=\"text-align: right;\">\n",
       "      <th></th>\n",
       "      <th>Year_of_Birth</th>\n",
       "      <th>Gender</th>\n",
       "      <th>Child's_First_Name</th>\n",
       "      <th>Count</th>\n",
       "      <th>Rank</th>\n",
       "    </tr>\n",
       "  </thead>\n",
       "  <tbody>\n",
       "    <tr>\n",
       "      <th>0</th>\n",
       "      <td>2011</td>\n",
       "      <td>FEMALE</td>\n",
       "      <td>GERALDINE</td>\n",
       "      <td>13</td>\n",
       "      <td>75</td>\n",
       "    </tr>\n",
       "    <tr>\n",
       "      <th>1</th>\n",
       "      <td>2011</td>\n",
       "      <td>FEMALE</td>\n",
       "      <td>GIA</td>\n",
       "      <td>21</td>\n",
       "      <td>67</td>\n",
       "    </tr>\n",
       "    <tr>\n",
       "      <th>2</th>\n",
       "      <td>2011</td>\n",
       "      <td>FEMALE</td>\n",
       "      <td>GIANNA</td>\n",
       "      <td>49</td>\n",
       "      <td>42</td>\n",
       "    </tr>\n",
       "    <tr>\n",
       "      <th>3</th>\n",
       "      <td>2011</td>\n",
       "      <td>FEMALE</td>\n",
       "      <td>GISELLE</td>\n",
       "      <td>38</td>\n",
       "      <td>51</td>\n",
       "    </tr>\n",
       "    <tr>\n",
       "      <th>4</th>\n",
       "      <td>2011</td>\n",
       "      <td>FEMALE</td>\n",
       "      <td>GRACE</td>\n",
       "      <td>36</td>\n",
       "      <td>53</td>\n",
       "    </tr>\n",
       "  </tbody>\n",
       "</table>\n",
       "</div>"
      ],
      "text/plain": [
       "  Year_of_Birth  Gender Child's_First_Name Count Rank\n",
       "0          2011  FEMALE          GERALDINE    13   75\n",
       "1          2011  FEMALE                GIA    21   67\n",
       "2          2011  FEMALE             GIANNA    49   42\n",
       "3          2011  FEMALE            GISELLE    38   51\n",
       "4          2011  FEMALE              GRACE    36   53"
      ]
     },
     "execution_count": 78,
     "metadata": {},
     "output_type": "execute_result"
    }
   ],
   "source": [
    "# try again, and you'll get same result\n",
    "data = to_df(lines)\n",
    "data.head()"
   ]
  },
  {
   "cell_type": "markdown",
   "metadata": {},
   "source": [
    "### If format is some wording separate inside?\n",
    "\n",
    "Below is Data of Year 2011\n",
    "============================================================\n",
    "Year_of_Birth Gender Child's_First_Name Count Rank\n",
    "2011 FEMALE GERALDINE 13 75\n",
    "2011 MALE VINCENT 71 13\n",
    "\n",
    "Below is Data of Year 2012\n",
    "============================================================\n",
    "Year_of_Birth Gender Child's_First_Name Count Rank\n",
    "2012 FEMALE EMERSON 11 82\n",
    "2012 FEMALE VICKY 25 30\n",
    "\"\"\""
   ]
  },
  {
   "cell_type": "code",
   "execution_count": 1,
   "metadata": {},
   "outputs": [
    {
     "data": {
      "text/plain": [
       "['Below is Data of Year 2011\\n',\n",
       " '============================================================\\n',\n",
       " \"Year_of_Birth Gender Child's_First_Name Count Rank\\n\",\n",
       " '2011 FEMALE GERALDINE 13 75\\n',\n",
       " '2011 MALE VINCENT 71 13\\n',\n",
       " '2011 MALE VICTOR 17 49\\n',\n",
       " '2011 MALE TYLER 31 35\\n',\n",
       " '2011 MALE TRAVIS 11 55\\n',\n",
       " '2011 MALE TONY 16 50\\n',\n",
       " '2011 MALE TIMOTHY 16 50\\n']"
      ]
     },
     "execution_count": 1,
     "metadata": {},
     "output_type": "execute_result"
    }
   ],
   "source": [
    "#What if there's some wording separate inside?\n",
    "with open('Popular_Baby_Names_space_spl_year.txt') as f:\n",
    "    lines=f.readlines()\n",
    "lines[0:10]"
   ]
  },
  {
   "cell_type": "code",
   "execution_count": 2,
   "metadata": {},
   "outputs": [
    {
     "name": "stdout",
     "output_type": "stream",
     "text": [
      "Location of each \"=\" is: [1, 11757, 23632, 35525, 47619, 49668, 51735, 53712, 55680])\n"
     ]
    }
   ],
   "source": [
    "#In this case, observing data, you'll see there's a special character '=' inside\n",
    "#So we want to get location of each '=' in list\n",
    "location = []\n",
    "for idx in range(len(lines)):\n",
    "    if '=' in lines[idx]:\n",
    "        location.append(idx)\n",
    "print(f'Location of each \"=\" is: {location})')\n",
    "    "
   ]
  },
  {
   "cell_type": "code",
   "execution_count": 3,
   "metadata": {},
   "outputs": [
    {
     "name": "stdout",
     "output_type": "stream",
     "text": [
      "first loc is 2 and end will be 11755\n",
      "check it: Start Year_of_Birth Gender Child's_First_Name Count Rank\n",
      ", end: 2011 MALE SHALOM 11 96\n",
      "\n"
     ]
    }
   ],
   "source": [
    "## so we know if we want to get header, will be each location +1, and we want to extract the data we want\n",
    "start = location[0]+1\n",
    "end = location[1]-2\n",
    "print(f'first loc is {start} and end will be {end}')\n",
    "print(f'check it: Start {lines[start]}, end: {lines[end-1]}')"
   ]
  },
  {
   "cell_type": "code",
   "execution_count": 8,
   "metadata": {},
   "outputs": [
    {
     "data": {
      "text/html": [
       "<div>\n",
       "<style scoped>\n",
       "    .dataframe tbody tr th:only-of-type {\n",
       "        vertical-align: middle;\n",
       "    }\n",
       "\n",
       "    .dataframe tbody tr th {\n",
       "        vertical-align: top;\n",
       "    }\n",
       "\n",
       "    .dataframe thead th {\n",
       "        text-align: right;\n",
       "    }\n",
       "</style>\n",
       "<table border=\"1\" class=\"dataframe\">\n",
       "  <thead>\n",
       "    <tr style=\"text-align: right;\">\n",
       "      <th></th>\n",
       "      <th>Year_of_Birth</th>\n",
       "      <th>Gender</th>\n",
       "      <th>Child's_First_Name</th>\n",
       "      <th>Count</th>\n",
       "      <th>Rank</th>\n",
       "    </tr>\n",
       "  </thead>\n",
       "  <tbody>\n",
       "    <tr>\n",
       "      <th>0</th>\n",
       "      <td>2011</td>\n",
       "      <td>FEMALE</td>\n",
       "      <td>GERALDINE</td>\n",
       "      <td>13</td>\n",
       "      <td>75</td>\n",
       "    </tr>\n",
       "    <tr>\n",
       "      <th>1</th>\n",
       "      <td>2011</td>\n",
       "      <td>MALE</td>\n",
       "      <td>VINCENT</td>\n",
       "      <td>71</td>\n",
       "      <td>13</td>\n",
       "    </tr>\n",
       "    <tr>\n",
       "      <th>2</th>\n",
       "      <td>2011</td>\n",
       "      <td>MALE</td>\n",
       "      <td>VICTOR</td>\n",
       "      <td>17</td>\n",
       "      <td>49</td>\n",
       "    </tr>\n",
       "    <tr>\n",
       "      <th>3</th>\n",
       "      <td>2011</td>\n",
       "      <td>MALE</td>\n",
       "      <td>TYLER</td>\n",
       "      <td>31</td>\n",
       "      <td>35</td>\n",
       "    </tr>\n",
       "    <tr>\n",
       "      <th>4</th>\n",
       "      <td>2011</td>\n",
       "      <td>MALE</td>\n",
       "      <td>TRAVIS</td>\n",
       "      <td>11</td>\n",
       "      <td>55</td>\n",
       "    </tr>\n",
       "  </tbody>\n",
       "</table>\n",
       "</div>"
      ],
      "text/plain": [
       "  Year_of_Birth  Gender Child's_First_Name Count Rank\n",
       "0          2011  FEMALE          GERALDINE    13   75\n",
       "1          2011    MALE            VINCENT    71   13\n",
       "2          2011    MALE             VICTOR    17   49\n",
       "3          2011    MALE              TYLER    31   35\n",
       "4          2011    MALE             TRAVIS    11   55"
      ]
     },
     "execution_count": 8,
     "metadata": {},
     "output_type": "execute_result"
    }
   ],
   "source": [
    "#So we can put lines[start:end] to previous function\n",
    "to_df(lines[start:end]).head()\n"
   ]
  },
  {
   "cell_type": "code",
   "execution_count": 9,
   "metadata": {},
   "outputs": [
    {
     "name": "stdout",
     "output_type": "stream",
     "text": [
      "df1:\n",
      "   a  b  c\n",
      "0  1  2  3\n",
      "1  4  5  6\n",
      "2  7  8  9\n",
      "df2:\n",
      "    a   b   c\n",
      "0  10  11  12\n",
      "1  13  14  15\n",
      "2  16  17  18\n",
      "After merge, df:\n",
      "    a   b   c\n",
      "0   1   2   3\n",
      "1   4   5   6\n",
      "2   7   8   9\n",
      "3  10  11  12\n",
      "4  13  14  15\n",
      "5  16  17  18\n"
     ]
    }
   ],
   "source": [
    "#Because the data is in a split format, we'll need a append function to merge together\n",
    "columns1 = ['a', 'b', 'c']\n",
    "data1 = [[1, 2, 3], [4, 5, 6], [7, 8, 9]]\n",
    "df1 = pd.DataFrame(data=data1, columns=columns1)\n",
    "\n",
    "columns2 = ['a', 'b', 'c']\n",
    "data2 = [[10, 11, 12], [13, 14, 15], [16, 17, 18]]\n",
    "df2 = pd.DataFrame(data=data2, columns=columns2)\n",
    "\n",
    "print(f'df1:\\n{df1}')\n",
    "print(f'df2:\\n{df2}')\n",
    "\n",
    "#Now we can append together\n",
    "df = pd.concat([df1, df2], ignore_index=True,)\n",
    "print(f'After merge, df:\\n{df}')"
   ]
  },
  {
   "cell_type": "code",
   "execution_count": 10,
   "metadata": {},
   "outputs": [
    {
     "name": "stdout",
     "output_type": "stream",
     "text": [
      "  Year_of_Birth  Gender Child's_First_Name Count Rank\n",
      "0          2011  FEMALE          GERALDINE    13   75\n",
      "1          2011    MALE            VINCENT    71   13\n",
      "2          2011    MALE             VICTOR    17   49\n",
      "3          2011    MALE              TYLER    31   35\n",
      "4          2011    MALE             TRAVIS    11   55\n",
      "  Year_of_Birth  Gender Child's_First_Name Count Rank\n",
      "0          2012  FEMALE            EMERSON    11   82\n",
      "1          2012  FEMALE              VICKY    25   30\n",
      "2          2012  FEMALE              ALANI    13   44\n",
      "3          2012  FEMALE              ALANA    25   32\n",
      "4          2012  FEMALE           AISSATOU    13   44\n",
      "  Year_of_Birth  Gender Child's_First_Name Count Rank\n",
      "0          2013  FEMALE             Skylah    10   78\n",
      "1          2013  FEMALE           Michelle    31   21\n",
      "2          2013  FEMALE             Sophia   291    2\n",
      "3          2013  FEMALE              Sofia   187    4\n",
      "4          2013    MALE              Gavin    27   78\n",
      "  Year_of_Birth  Gender Child's_First_Name Count Rank\n",
      "0          2014    MALE             Connor    21   47\n",
      "1          2014    MALE            Matthew   131   22\n",
      "2          2014  FEMALE               Lucy    58   41\n",
      "3          2014  FEMALE              Nylah    34   17\n",
      "4          2014    MALE            Grayson    30   82\n",
      "  Year_of_Birth  Gender Child's_First_Name Count Rank\n",
      "0          2015  FEMALE            Arianna    33   60\n",
      "1          2015  FEMALE               Ella    26   65\n",
      "2          2015    MALE           Nicholas    32   41\n",
      "3          2015    MALE             Aaryan    10   55\n",
      "4          2015  FEMALE              Anaya    44   13\n",
      "  Year_of_Birth  Gender Child's_First_Name Count Rank\n",
      "0          2016    MALE             August    26   83\n",
      "1          2016    MALE             August    12   89\n",
      "2          2016  FEMALE             Analia    15   69\n",
      "3          2016    MALE               Joel    55   51\n",
      "4          2016  FEMALE               Elsa    13   38\n",
      "  Year_of_Birth  Gender Child's_First_Name Count Rank\n",
      "0          2017  FEMALE              Faith    35   13\n",
      "1          2017  FEMALE                Zoe    35   13\n",
      "2          2017  FEMALE               Zuri    34   14\n",
      "3          2017  FEMALE               Aria    31   17\n",
      "4          2017  FEMALE             Fatima    32   16\n",
      "  Year_of_Birth  Gender Child's_First_Name Count Rank\n",
      "0          2018    MALE              David   129   15\n",
      "1          2018    MALE             Daniel   133   14\n",
      "2          2018    MALE              Mason   135   13\n",
      "3          2018  FEMALE             Everly    10   85\n",
      "4          2018    MALE          Alexander   151   11\n",
      "  Year_of_Birth  Gender Child's_First_Name Count Rank\n",
      "0          2019  FEMALE              Maria    40   55\n",
      "1          2019  FEMALE               Luna    44   51\n",
      "2          2019  FEMALE               Toby    43   52\n",
      "3          2019  FEMALE             Vivian    43   52\n",
      "4          2019  FEMALE              Chava    42   53\n"
     ]
    }
   ],
   "source": [
    "#Observing below, you'll see df is printed by year\n",
    "for idx in range(len(location)):\n",
    "    if idx>=len(location)-1:\n",
    "        start = location[idx]+1\n",
    "        end = None\n",
    "    else:\n",
    "        start = location[idx]+1\n",
    "        end = location[idx+1]-2\n",
    "    print(to_df(lines[start:end]).head())"
   ]
  },
  {
   "cell_type": "code",
   "execution_count": 13,
   "metadata": {},
   "outputs": [
    {
     "data": {
      "text/html": [
       "<div>\n",
       "<style scoped>\n",
       "    .dataframe tbody tr th:only-of-type {\n",
       "        vertical-align: middle;\n",
       "    }\n",
       "\n",
       "    .dataframe tbody tr th {\n",
       "        vertical-align: top;\n",
       "    }\n",
       "\n",
       "    .dataframe thead th {\n",
       "        text-align: right;\n",
       "    }\n",
       "</style>\n",
       "<table border=\"1\" class=\"dataframe\">\n",
       "  <thead>\n",
       "    <tr style=\"text-align: right;\">\n",
       "      <th></th>\n",
       "      <th>Year_of_Birth</th>\n",
       "      <th>Gender</th>\n",
       "      <th>Child's_First_Name</th>\n",
       "      <th>Count</th>\n",
       "      <th>Rank</th>\n",
       "    </tr>\n",
       "  </thead>\n",
       "  <tbody>\n",
       "    <tr>\n",
       "      <th>0</th>\n",
       "      <td>2011</td>\n",
       "      <td>FEMALE</td>\n",
       "      <td>GERALDINE</td>\n",
       "      <td>13</td>\n",
       "      <td>75</td>\n",
       "    </tr>\n",
       "    <tr>\n",
       "      <th>1</th>\n",
       "      <td>2011</td>\n",
       "      <td>MALE</td>\n",
       "      <td>VINCENT</td>\n",
       "      <td>71</td>\n",
       "      <td>13</td>\n",
       "    </tr>\n",
       "    <tr>\n",
       "      <th>2</th>\n",
       "      <td>2011</td>\n",
       "      <td>MALE</td>\n",
       "      <td>VICTOR</td>\n",
       "      <td>17</td>\n",
       "      <td>49</td>\n",
       "    </tr>\n",
       "    <tr>\n",
       "      <th>3</th>\n",
       "      <td>2011</td>\n",
       "      <td>MALE</td>\n",
       "      <td>TYLER</td>\n",
       "      <td>31</td>\n",
       "      <td>35</td>\n",
       "    </tr>\n",
       "    <tr>\n",
       "      <th>4</th>\n",
       "      <td>2011</td>\n",
       "      <td>MALE</td>\n",
       "      <td>TRAVIS</td>\n",
       "      <td>11</td>\n",
       "      <td>55</td>\n",
       "    </tr>\n",
       "  </tbody>\n",
       "</table>\n",
       "</div>"
      ],
      "text/plain": [
       "  Year_of_Birth  Gender Child's_First_Name Count Rank\n",
       "0          2011  FEMALE          GERALDINE    13   75\n",
       "1          2011    MALE            VINCENT    71   13\n",
       "2          2011    MALE             VICTOR    17   49\n",
       "3          2011    MALE              TYLER    31   35\n",
       "4          2011    MALE             TRAVIS    11   55"
      ]
     },
     "execution_count": 13,
     "metadata": {},
     "output_type": "execute_result"
    }
   ],
   "source": [
    "#Now we want to save this to a df for storage, and you had a complete dataframe\n",
    "df=pd.DataFrame()\n",
    "for idx in range(len(location)):\n",
    "    if idx>=len(location)-1:\n",
    "        start = location[idx]+1\n",
    "        end = None\n",
    "    else:\n",
    "        start = location[idx]+1\n",
    "        end = location[idx+1]-2\n",
    "    tmp = to_df(lines[start:end])\n",
    "    df = pd.concat([df, tmp], ignore_index=True,)\n",
    "df.head()"
   ]
  },
  {
   "cell_type": "markdown",
   "metadata": {},
   "source": [
    "### If data we had is a aligned format\n",
    "\"\"\"\n",
    "Year_of_Birth   Gender      Child's_First_Name  Count   Rank\n",
    "2011            FEMALE      GERALDINE           13      75\n",
    "2011            MALE        VINCENT             71      13\n",
    "2011            MALE        VICTOR              17      49\n",
    "2011            MALE        TYLER               31      35\n",
    "\"\"\""
   ]
  },
  {
   "cell_type": "code",
   "execution_count": 16,
   "metadata": {},
   "outputs": [
    {
     "data": {
      "text/plain": [
       "[\"Year_of_Birth   Gender      Child's_First_Name  Count   Rank\\n\",\n",
       " '2011            FEMALE      GERALDINE           13      75\\n',\n",
       " '2011            MALE        VINCENT             71      13\\n',\n",
       " '2011            MALE        VICTOR              17      49\\n',\n",
       " '2011            MALE        TYLER               31      35']"
      ]
     },
     "execution_count": 16,
     "metadata": {},
     "output_type": "execute_result"
    }
   ],
   "source": [
    "#What if there's some wording separate inside?\n",
    "with open('Popular_Baby_Names_space_tab_lign.txt') as f:\n",
    "    lines=f.readlines()\n",
    "lines[0:10]"
   ]
  },
  {
   "cell_type": "code",
   "execution_count": 19,
   "metadata": {},
   "outputs": [
    {
     "data": {
      "text/html": [
       "<div>\n",
       "<style scoped>\n",
       "    .dataframe tbody tr th:only-of-type {\n",
       "        vertical-align: middle;\n",
       "    }\n",
       "\n",
       "    .dataframe tbody tr th {\n",
       "        vertical-align: top;\n",
       "    }\n",
       "\n",
       "    .dataframe thead th {\n",
       "        text-align: right;\n",
       "    }\n",
       "</style>\n",
       "<table border=\"1\" class=\"dataframe\">\n",
       "  <thead>\n",
       "    <tr style=\"text-align: right;\">\n",
       "      <th></th>\n",
       "      <th>Year_of_Birth</th>\n",
       "      <th>Gender</th>\n",
       "      <th>Child's_First_Name</th>\n",
       "      <th>Count</th>\n",
       "      <th>Rank</th>\n",
       "    </tr>\n",
       "  </thead>\n",
       "  <tbody>\n",
       "    <tr>\n",
       "      <th>0</th>\n",
       "      <td>2011</td>\n",
       "      <td>FEMALE</td>\n",
       "      <td>GERALDINE</td>\n",
       "      <td>13</td>\n",
       "      <td>75</td>\n",
       "    </tr>\n",
       "    <tr>\n",
       "      <th>1</th>\n",
       "      <td>2011</td>\n",
       "      <td>MALE</td>\n",
       "      <td>VINCENT</td>\n",
       "      <td>71</td>\n",
       "      <td>13</td>\n",
       "    </tr>\n",
       "    <tr>\n",
       "      <th>2</th>\n",
       "      <td>2011</td>\n",
       "      <td>MALE</td>\n",
       "      <td>VICTOR</td>\n",
       "      <td>17</td>\n",
       "      <td>49</td>\n",
       "    </tr>\n",
       "    <tr>\n",
       "      <th>3</th>\n",
       "      <td>2011</td>\n",
       "      <td>MALE</td>\n",
       "      <td>TYLER</td>\n",
       "      <td>31</td>\n",
       "      <td>35</td>\n",
       "    </tr>\n",
       "  </tbody>\n",
       "</table>\n",
       "</div>"
      ],
      "text/plain": [
       "  Year_of_Birth  Gender Child's_First_Name Count Rank\n",
       "0          2011  FEMALE          GERALDINE    13   75\n",
       "1          2011    MALE            VINCENT    71   13\n",
       "2          2011    MALE             VICTOR    17   49\n",
       "3          2011    MALE              TYLER    31   35"
      ]
     },
     "execution_count": 19,
     "metadata": {},
     "output_type": "execute_result"
    }
   ],
   "source": [
    "#Previous function can also apply\n",
    "df = to_df(lines)\n",
    "df.head()"
   ]
  },
  {
   "cell_type": "markdown",
   "metadata": {},
   "source": [
    "### Save file"
   ]
  },
  {
   "cell_type": "code",
   "execution_count": 21,
   "metadata": {},
   "outputs": [],
   "source": [
    "#Once you had a dataframe, you can perform many caculation ot join, we'll introduce in afterward, now you can save df to a csv\n",
    "df.to_csv('df.csv', index=False)"
   ]
  }
 ],
 "metadata": {
  "kernelspec": {
   "display_name": "Python 3",
   "language": "python",
   "name": "python3"
  },
  "language_info": {
   "codemirror_mode": {
    "name": "ipython",
    "version": 3
   },
   "file_extension": ".py",
   "mimetype": "text/x-python",
   "name": "python",
   "nbconvert_exporter": "python",
   "pygments_lexer": "ipython3",
   "version": "3.10.8"
  }
 },
 "nbformat": 4,
 "nbformat_minor": 2
}
