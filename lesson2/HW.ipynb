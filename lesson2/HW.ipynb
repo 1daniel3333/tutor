{
 "cells": [
  {
   "cell_type": "markdown",
   "metadata": {},
   "source": [
    "## Dataframe functions: Read file in folder, Read xlsx, Merge data"
   ]
  },
  {
   "cell_type": "code",
   "execution_count": 2,
   "metadata": {},
   "outputs": [],
   "source": [
    "import pandas as pd"
   ]
  },
  {
   "cell_type": "code",
   "execution_count": 82,
   "metadata": {},
   "outputs": [
    {
     "name": "stdout",
     "output_type": "stream",
     "text": [
      "Assume you had a id list of some fruit: \n",
      "   id fruit for sale\n",
      "0   1     Sell:apple\n",
      "1   2    Sell:orange\n",
      "2   3    Sell:banana\n",
      "3   4    Sell:orange\n",
      "4   5     Sell:apple\n",
      "And price list of fruit: \n",
      "   id  price\n",
      "0   1      5\n",
      "1   2     10\n",
      "2   3     15\n",
      "3   4     13\n",
      "4   5     55\n",
      "Data after merge: \n",
      "   id fruit for sale  price\n",
      "0   1     Sell:apple      5\n",
      "1   2    Sell:orange     10\n",
      "2   3    Sell:banana     15\n",
      "3   4    Sell:orange     13\n",
      "4   5     Sell:apple     55\n"
     ]
    }
   ],
   "source": [
    "#merge data means you had two dataset with columns had same value that can form a correlation\n",
    "id_df = pd.DataFrame({'id':[1,2,3,4,5],'fruit for sale':['Sell:apple','Sell:orange','Sell:banana','Sell:orange','Sell:apple']})\n",
    "print(f'Assume you had a id list of some fruit: \\n{id_df}')\n",
    "price_df = pd.DataFrame({'id':[1,2,3,4,5],'price':[5,10,15,13,55]})\n",
    "print(f'And price list of fruit: \\n{price_df}')\n",
    "#We can use merge to create connection on two list\n",
    "merge_df = id_df.merge(price_df,left_on='id', right_on='id')\n",
    "print(f'Data after merge: \\n{merge_df}')"
   ]
  },
  {
   "cell_type": "code",
   "execution_count": 72,
   "metadata": {},
   "outputs": [],
   "source": [
    "### Extract content from column\n",
    "#You can see column 'fruit for sale' is not very clean, contains Sell: in front, so we can use split(':') to get only fruit name\n",
    "#Below could both works\n",
    "# merge_df['fruit']=merge_df['fruit for sale'].str.split(':').str[0]\n",
    "\n",
    "merge_df['fruit']=[x.split(':')[0] for x in merge_df['fruit for sale']]\n",
    "\"\"\"\n",
    "Above is list comprehension\n",
    "Same method as \n",
    "tmp = []\n",
    "for x in merge_df['fruit for sale']:\n",
    "    data = x.split(':')[0]\n",
    "    tmp.append(data)\n",
    "merge_df['fruit']=tmp\n",
    "\"\"\""
   ]
  },
  {
   "cell_type": "code",
   "execution_count": 39,
   "metadata": {},
   "outputs": [
    {
     "data": {
      "text/plain": [
       "0    1\n",
       "1    2\n",
       "2    5\n",
       "3    4\n",
       "5    3\n",
       "Name: id, dtype: int64"
      ]
     },
     "execution_count": 39,
     "metadata": {},
     "output_type": "execute_result"
    }
   ],
   "source": [
    "#Now we had a purchase record on id, there will be duplicated id list\n",
    "purchase = pd.DataFrame({'id':[1,2,5,4,2,3,1,5,4,2,3,1,5,4], 'purchase_qty':[1,2,3,4,5,6,7,8,9,10,11,12,13,14]})\n",
    "#If you don't know the content you can use drop_duplicates\n",
    "purchase['id'].drop_duplicates()"
   ]
  },
  {
   "cell_type": "code",
   "execution_count": 40,
   "metadata": {},
   "outputs": [
    {
     "data": {
      "text/plain": [
       "0    1\n",
       "1    2\n",
       "5    3\n",
       "3    4\n",
       "2    5\n",
       "Name: id, dtype: int64"
      ]
     },
     "execution_count": 40,
     "metadata": {},
     "output_type": "execute_result"
    }
   ],
   "source": [
    "#And you can use sort_values to arrange data\n",
    "purchase['id'].drop_duplicates().sort_values()"
   ]
  },
  {
   "cell_type": "code",
   "execution_count": 53,
   "metadata": {},
   "outputs": [
    {
     "data": {
      "text/html": [
       "<div>\n",
       "<style scoped>\n",
       "    .dataframe tbody tr th:only-of-type {\n",
       "        vertical-align: middle;\n",
       "    }\n",
       "\n",
       "    .dataframe tbody tr th {\n",
       "        vertical-align: top;\n",
       "    }\n",
       "\n",
       "    .dataframe thead th {\n",
       "        text-align: right;\n",
       "    }\n",
       "</style>\n",
       "<table border=\"1\" class=\"dataframe\">\n",
       "  <thead>\n",
       "    <tr style=\"text-align: right;\">\n",
       "      <th></th>\n",
       "      <th>id</th>\n",
       "      <th>purchase_qty</th>\n",
       "    </tr>\n",
       "  </thead>\n",
       "  <tbody>\n",
       "    <tr>\n",
       "      <th>0</th>\n",
       "      <td>1</td>\n",
       "      <td>20</td>\n",
       "    </tr>\n",
       "    <tr>\n",
       "      <th>1</th>\n",
       "      <td>2</td>\n",
       "      <td>17</td>\n",
       "    </tr>\n",
       "    <tr>\n",
       "      <th>2</th>\n",
       "      <td>3</td>\n",
       "      <td>17</td>\n",
       "    </tr>\n",
       "    <tr>\n",
       "      <th>3</th>\n",
       "      <td>4</td>\n",
       "      <td>27</td>\n",
       "    </tr>\n",
       "    <tr>\n",
       "      <th>4</th>\n",
       "      <td>5</td>\n",
       "      <td>24</td>\n",
       "    </tr>\n",
       "  </tbody>\n",
       "</table>\n",
       "</div>"
      ],
      "text/plain": [
       "   id  purchase_qty\n",
       "0   1            20\n",
       "1   2            17\n",
       "2   3            17\n",
       "3   4            27\n",
       "4   5            24"
      ]
     },
     "execution_count": 53,
     "metadata": {},
     "output_type": "execute_result"
    }
   ],
   "source": [
    "#Aggregate based on features min,max,sum,count\n",
    "purchase_new = purchase.groupby(['id']).sum().reset_index()\n",
    "purchase_new"
   ]
  },
  {
   "cell_type": "code",
   "execution_count": 54,
   "metadata": {},
   "outputs": [
    {
     "data": {
      "text/html": [
       "<div>\n",
       "<style scoped>\n",
       "    .dataframe tbody tr th:only-of-type {\n",
       "        vertical-align: middle;\n",
       "    }\n",
       "\n",
       "    .dataframe tbody tr th {\n",
       "        vertical-align: top;\n",
       "    }\n",
       "\n",
       "    .dataframe thead th {\n",
       "        text-align: right;\n",
       "    }\n",
       "</style>\n",
       "<table border=\"1\" class=\"dataframe\">\n",
       "  <thead>\n",
       "    <tr style=\"text-align: right;\">\n",
       "      <th></th>\n",
       "      <th>id</th>\n",
       "      <th>price</th>\n",
       "      <th>purchase_qty</th>\n",
       "      <th>Income</th>\n",
       "    </tr>\n",
       "  </thead>\n",
       "  <tbody>\n",
       "    <tr>\n",
       "      <th>0</th>\n",
       "      <td>1</td>\n",
       "      <td>5</td>\n",
       "      <td>20</td>\n",
       "      <td>100</td>\n",
       "    </tr>\n",
       "    <tr>\n",
       "      <th>1</th>\n",
       "      <td>2</td>\n",
       "      <td>10</td>\n",
       "      <td>17</td>\n",
       "      <td>170</td>\n",
       "    </tr>\n",
       "    <tr>\n",
       "      <th>2</th>\n",
       "      <td>3</td>\n",
       "      <td>15</td>\n",
       "      <td>17</td>\n",
       "      <td>255</td>\n",
       "    </tr>\n",
       "    <tr>\n",
       "      <th>3</th>\n",
       "      <td>4</td>\n",
       "      <td>13</td>\n",
       "      <td>27</td>\n",
       "      <td>351</td>\n",
       "    </tr>\n",
       "    <tr>\n",
       "      <th>4</th>\n",
       "      <td>5</td>\n",
       "      <td>55</td>\n",
       "      <td>24</td>\n",
       "      <td>1320</td>\n",
       "    </tr>\n",
       "  </tbody>\n",
       "</table>\n",
       "</div>"
      ],
      "text/plain": [
       "   id  price  purchase_qty  Income\n",
       "0   1      5            20     100\n",
       "1   2     10            17     170\n",
       "2   3     15            17     255\n",
       "3   4     13            27     351\n",
       "4   5     55            24    1320"
      ]
     },
     "execution_count": 54,
     "metadata": {},
     "output_type": "execute_result"
    }
   ],
   "source": [
    "report = price_df.merge(purchase_new)\n",
    "report['Income']=report['price']*report['purchase_qty']\n",
    "report"
   ]
  }
 ],
 "metadata": {
  "kernelspec": {
   "display_name": "Python 3",
   "language": "python",
   "name": "python3"
  },
  "language_info": {
   "codemirror_mode": {
    "name": "ipython",
    "version": 3
   },
   "file_extension": ".py",
   "mimetype": "text/x-python",
   "name": "python",
   "nbconvert_exporter": "python",
   "pygments_lexer": "ipython3",
   "version": "3.11.0"
  }
 },
 "nbformat": 4,
 "nbformat_minor": 2
}
