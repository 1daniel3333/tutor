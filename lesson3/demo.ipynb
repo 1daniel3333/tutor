{
 "cells": [
  {
   "cell_type": "markdown",
   "metadata": {},
   "source": [
    "### Advanced preprocessing "
   ]
  },
  {
   "cell_type": "code",
   "execution_count": null,
   "metadata": {},
   "outputs": [],
   "source": [
    "import pandas as pd"
   ]
  },
  {
   "cell_type": "code",
   "execution_count": 24,
   "metadata": {},
   "outputs": [
    {
     "name": "stdout",
     "output_type": "stream",
     "text": [
      "name had three columns, \n",
      "Team is which team certain name belogs to, \n",
      "Index is location person seat in sheet \"Attend\"\n",
      "  Team  Index             Name\n",
      "0    A      0   Melody Daniels\n",
      "1    A      1    Xander Gaines\n",
      "2    A      2       Aya Coffey\n",
      "3    A      3       Kody Crane\n",
      "4    A      4  Della Armstrong\n",
      "\n",
      "Attend who had attend the class in certain week.\n",
      "  Team  Week1  Week2  Week3  Week4  Week5\n",
      "0    A  11101  11101  11111  11101  11101\n",
      "1    B  11001  11011  11111  11001  11001\n",
      "2    C  11111  11011  11111  10111  11111\n",
      "3    D  11101  11101  11101  11101  11101\n",
      "4    E  10000  10000  10000  10000  10000\n"
     ]
    }
   ],
   "source": [
    "#A excel had two sheet \"Attend\" and \"Name\"\n",
    "attend = pd.read_excel(\"serial_split.xlsx\", sheet_name='Attend')\n",
    "name = pd.read_excel(\"serial_split.xlsx\", sheet_name='Name')\n",
    "print('name had three columns, \\nTeam is which team certain name belogs to, \\nIndex is location person seat in sheet \"Attend\"')\n",
    "print(name.head())\n",
    "print('\\nAttend is who had attend the class in certain week.\\n1 means attend, 0 mean absence.')\n",
    "print(attend.head())\n",
    "print(f'First we want to get each team attendend rate by week.')\n",
    "# print('\\nWe want to preprocess the data to get a data with column [\"Name\",\"Week\",\"Team\"]')"
   ]
  },
  {
   "cell_type": "markdown",
   "metadata": {},
   "source": [
    "### get each team attendend rate by week."
   ]
  },
  {
   "cell_type": "code",
   "execution_count": 91,
   "metadata": {},
   "outputs": [
    {
     "name": "stdout",
     "output_type": "stream",
     "text": [
      "In column 'week1' is \n",
      "0    11101\n",
      "1    11001\n",
      "2    11111\n",
      "3    11101\n",
      "4    10000\n",
      "Name: Week1, dtype: int64\n"
     ]
    }
   ],
   "source": [
    "#We want ro caculate the number of 1 inside each cell, we try to print column \"week1\"\n",
    "print(f\"In column 'week1' is \\n{attend['Week1']}\")"
   ]
  },
  {
   "cell_type": "code",
   "execution_count": 93,
   "metadata": {},
   "outputs": [
    {
     "name": "stdout",
     "output_type": "stream",
     "text": [
      "If we want to caculate the number of 1, we can use a for loop\n"
     ]
    },
    {
     "data": {
      "text/plain": [
       "4"
      ]
     },
     "execution_count": 93,
     "metadata": {},
     "output_type": "execute_result"
    }
   ],
   "source": [
    "print('If we want to caculate the number of 1, we can use a for loop')\n",
    "cnt=0\n",
    "for i in str(attend['Week1'][0]):\n",
    "    if i=='1': cnt+=1\n",
    "print(cnt)"
   ]
  },
  {
   "cell_type": "code",
   "execution_count": 101,
   "metadata": {},
   "outputs": [
    {
     "name": "stdout",
     "output_type": "stream",
     "text": [
      "example: ['1', '1', '1', '0', '1']\n",
      "now adding condition eaqual to 1 ['1', '1', '1', '1']\n",
      "So length is 4\n"
     ]
    }
   ],
   "source": [
    "#Or using list comprehension \n",
    "#Standard format: [x for x in list() if {x condition}]\n",
    "data1 = [x for x in str(attend['Week1'][0])]\n",
    "print(f\"example: {data1}\")\n",
    "data2 = [x for x in str(attend['Week1'][0]) if x == '1']\n",
    "print(f\"now adding condition eaqual to 1 {data2}\")\n",
    "print(f'So length is {len(data2)}')"
   ]
  },
  {
   "cell_type": "code",
   "execution_count": 102,
   "metadata": {},
   "outputs": [
    {
     "data": {
      "text/html": [
       "<div>\n",
       "<style scoped>\n",
       "    .dataframe tbody tr th:only-of-type {\n",
       "        vertical-align: middle;\n",
       "    }\n",
       "\n",
       "    .dataframe tbody tr th {\n",
       "        vertical-align: top;\n",
       "    }\n",
       "\n",
       "    .dataframe thead th {\n",
       "        text-align: right;\n",
       "    }\n",
       "</style>\n",
       "<table border=\"1\" class=\"dataframe\">\n",
       "  <thead>\n",
       "    <tr style=\"text-align: right;\">\n",
       "      <th></th>\n",
       "      <th>Team</th>\n",
       "      <th>Week1</th>\n",
       "      <th>Week2</th>\n",
       "      <th>Week3</th>\n",
       "      <th>Week4</th>\n",
       "      <th>Week5</th>\n",
       "    </tr>\n",
       "  </thead>\n",
       "  <tbody>\n",
       "    <tr>\n",
       "      <th>0</th>\n",
       "      <td>A</td>\n",
       "      <td>11101</td>\n",
       "      <td>11101</td>\n",
       "      <td>11111</td>\n",
       "      <td>11101</td>\n",
       "      <td>11101</td>\n",
       "    </tr>\n",
       "    <tr>\n",
       "      <th>1</th>\n",
       "      <td>B</td>\n",
       "      <td>11001</td>\n",
       "      <td>11011</td>\n",
       "      <td>11111</td>\n",
       "      <td>11001</td>\n",
       "      <td>11001</td>\n",
       "    </tr>\n",
       "    <tr>\n",
       "      <th>2</th>\n",
       "      <td>C</td>\n",
       "      <td>11111</td>\n",
       "      <td>11011</td>\n",
       "      <td>11111</td>\n",
       "      <td>10111</td>\n",
       "      <td>11111</td>\n",
       "    </tr>\n",
       "    <tr>\n",
       "      <th>3</th>\n",
       "      <td>D</td>\n",
       "      <td>11101</td>\n",
       "      <td>11101</td>\n",
       "      <td>11101</td>\n",
       "      <td>11101</td>\n",
       "      <td>11101</td>\n",
       "    </tr>\n",
       "    <tr>\n",
       "      <th>4</th>\n",
       "      <td>E</td>\n",
       "      <td>10000</td>\n",
       "      <td>10000</td>\n",
       "      <td>10000</td>\n",
       "      <td>10000</td>\n",
       "      <td>10000</td>\n",
       "    </tr>\n",
       "  </tbody>\n",
       "</table>\n",
       "</div>"
      ],
      "text/plain": [
       "  Team  Week1  Week2  Week3  Week4  Week5\n",
       "0    A  11101  11101  11111  11101  11101\n",
       "1    B  11001  11011  11111  11001  11001\n",
       "2    C  11111  11011  11111  10111  11111\n",
       "3    D  11101  11101  11101  11101  11101\n",
       "4    E  10000  10000  10000  10000  10000"
      ]
     },
     "execution_count": 102,
     "metadata": {},
     "output_type": "execute_result"
    }
   ],
   "source": [
    "#Now we know how to translate the 5 digit to count, we'll copy the df first\n",
    "attend2 = attend.copy()\n",
    "\n",
    "attend2.head()"
   ]
  },
  {
   "cell_type": "code",
   "execution_count": 121,
   "metadata": {},
   "outputs": [
    {
     "name": "stdout",
     "output_type": "stream",
     "text": [
      "week list is ['Week1', 'Week2', 'Week3', 'Week4', 'Week5']\n",
      "\n",
      "Answer is below:\n"
     ]
    },
    {
     "data": {
      "text/html": [
       "<div>\n",
       "<style scoped>\n",
       "    .dataframe tbody tr th:only-of-type {\n",
       "        vertical-align: middle;\n",
       "    }\n",
       "\n",
       "    .dataframe tbody tr th {\n",
       "        vertical-align: top;\n",
       "    }\n",
       "\n",
       "    .dataframe thead th {\n",
       "        text-align: right;\n",
       "    }\n",
       "</style>\n",
       "<table border=\"1\" class=\"dataframe\">\n",
       "  <thead>\n",
       "    <tr style=\"text-align: right;\">\n",
       "      <th></th>\n",
       "      <th>Team</th>\n",
       "      <th>Week1</th>\n",
       "      <th>Week2</th>\n",
       "      <th>Week3</th>\n",
       "      <th>Week4</th>\n",
       "      <th>Week5</th>\n",
       "    </tr>\n",
       "  </thead>\n",
       "  <tbody>\n",
       "    <tr>\n",
       "      <th>0</th>\n",
       "      <td>A</td>\n",
       "      <td>4</td>\n",
       "      <td>4</td>\n",
       "      <td>5</td>\n",
       "      <td>4</td>\n",
       "      <td>4</td>\n",
       "    </tr>\n",
       "    <tr>\n",
       "      <th>1</th>\n",
       "      <td>B</td>\n",
       "      <td>3</td>\n",
       "      <td>4</td>\n",
       "      <td>5</td>\n",
       "      <td>3</td>\n",
       "      <td>3</td>\n",
       "    </tr>\n",
       "    <tr>\n",
       "      <th>2</th>\n",
       "      <td>C</td>\n",
       "      <td>5</td>\n",
       "      <td>4</td>\n",
       "      <td>5</td>\n",
       "      <td>4</td>\n",
       "      <td>5</td>\n",
       "    </tr>\n",
       "    <tr>\n",
       "      <th>3</th>\n",
       "      <td>D</td>\n",
       "      <td>4</td>\n",
       "      <td>4</td>\n",
       "      <td>4</td>\n",
       "      <td>4</td>\n",
       "      <td>4</td>\n",
       "    </tr>\n",
       "    <tr>\n",
       "      <th>4</th>\n",
       "      <td>E</td>\n",
       "      <td>1</td>\n",
       "      <td>1</td>\n",
       "      <td>1</td>\n",
       "      <td>1</td>\n",
       "      <td>1</td>\n",
       "    </tr>\n",
       "  </tbody>\n",
       "</table>\n",
       "</div>"
      ],
      "text/plain": [
       "  Team  Week1  Week2  Week3  Week4  Week5\n",
       "0    A      4      4      5      4      4\n",
       "1    B      3      4      5      3      3\n",
       "2    C      5      4      5      4      5\n",
       "3    D      4      4      4      4      4\n",
       "4    E      1      1      1      1      1"
      ]
     },
     "execution_count": 121,
     "metadata": {},
     "output_type": "execute_result"
    }
   ],
   "source": [
    "# now we will iterate from index (x asix) and week1 to week5 (y axis), then count the number of 1 and update in new df\n",
    "weeks = list(attend.columns[1:])\n",
    "print(f\"week list is {weeks}\")\n",
    "\n",
    "#Now go into for loop\n",
    "for idx in range(len(attend)):\n",
    "    for week in weeks:\n",
    "        num_data = str(attend.loc[idx,week])\n",
    "        attend2.loc[idx,week]=len([x for x in num_data if x=='1'])\n",
    "print('\\nAnswer is below:')\n",
    "attend2\n"
   ]
  },
  {
   "cell_type": "code",
   "execution_count": 127,
   "metadata": {},
   "outputs": [
    {
     "data": {
      "text/html": [
       "<div>\n",
       "<style scoped>\n",
       "    .dataframe tbody tr th:only-of-type {\n",
       "        vertical-align: middle;\n",
       "    }\n",
       "\n",
       "    .dataframe tbody tr th {\n",
       "        vertical-align: top;\n",
       "    }\n",
       "\n",
       "    .dataframe thead th {\n",
       "        text-align: right;\n",
       "    }\n",
       "</style>\n",
       "<table border=\"1\" class=\"dataframe\">\n",
       "  <thead>\n",
       "    <tr style=\"text-align: right;\">\n",
       "      <th></th>\n",
       "      <th>Team</th>\n",
       "      <th>Week1</th>\n",
       "      <th>Week2</th>\n",
       "      <th>Week3</th>\n",
       "      <th>Week4</th>\n",
       "      <th>Week5</th>\n",
       "    </tr>\n",
       "  </thead>\n",
       "  <tbody>\n",
       "    <tr>\n",
       "      <th>0</th>\n",
       "      <td>A</td>\n",
       "      <td>4</td>\n",
       "      <td>4</td>\n",
       "      <td>5</td>\n",
       "      <td>4</td>\n",
       "      <td>4</td>\n",
       "    </tr>\n",
       "    <tr>\n",
       "      <th>1</th>\n",
       "      <td>B</td>\n",
       "      <td>3</td>\n",
       "      <td>4</td>\n",
       "      <td>5</td>\n",
       "      <td>3</td>\n",
       "      <td>3</td>\n",
       "    </tr>\n",
       "    <tr>\n",
       "      <th>2</th>\n",
       "      <td>C</td>\n",
       "      <td>5</td>\n",
       "      <td>4</td>\n",
       "      <td>5</td>\n",
       "      <td>4</td>\n",
       "      <td>5</td>\n",
       "    </tr>\n",
       "    <tr>\n",
       "      <th>3</th>\n",
       "      <td>D</td>\n",
       "      <td>4</td>\n",
       "      <td>4</td>\n",
       "      <td>4</td>\n",
       "      <td>4</td>\n",
       "      <td>4</td>\n",
       "    </tr>\n",
       "    <tr>\n",
       "      <th>4</th>\n",
       "      <td>E</td>\n",
       "      <td>1</td>\n",
       "      <td>1</td>\n",
       "      <td>1</td>\n",
       "      <td>1</td>\n",
       "      <td>1</td>\n",
       "    </tr>\n",
       "  </tbody>\n",
       "</table>\n",
       "</div>"
      ],
      "text/plain": [
       "  Team  Week1  Week2  Week3  Week4  Week5\n",
       "0    A      4      4      5      4      4\n",
       "1    B      3      4      5      3      3\n",
       "2    C      5      4      5      4      5\n",
       "3    D      4      4      4      4      4\n",
       "4    E      1      1      1      1      1"
      ]
     },
     "execution_count": 127,
     "metadata": {},
     "output_type": "execute_result"
    }
   ],
   "source": [
    "#Or can use apply, in apply, you can through a row or column in assigned function and return data\n",
    "def f(data):\n",
    "    return len([x for x in str(data) if x=='1'])\n",
    "\n",
    "attend3 = attend.copy()\n",
    "for week in weeks:\n",
    "    attend3[week] = attend[week].apply(f)\n",
    "attend3"
   ]
  },
  {
   "cell_type": "code",
   "execution_count": null,
   "metadata": {},
   "outputs": [],
   "source": []
  },
  {
   "cell_type": "code",
   "execution_count": null,
   "metadata": {},
   "outputs": [],
   "source": []
  }
 ],
 "metadata": {
  "kernelspec": {
   "display_name": "Python 3",
   "language": "python",
   "name": "python3"
  },
  "language_info": {
   "codemirror_mode": {
    "name": "ipython",
    "version": 3
   },
   "file_extension": ".py",
   "mimetype": "text/x-python",
   "name": "python",
   "nbconvert_exporter": "python",
   "pygments_lexer": "ipython3",
   "version": "3.11.0"
  }
 },
 "nbformat": 4,
 "nbformat_minor": 2
}
